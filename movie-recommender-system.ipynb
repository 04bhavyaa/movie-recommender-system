{
 "cells": [
  {
   "cell_type": "code",
   "execution_count": 40,
   "metadata": {},
   "outputs": [
    {
     "name": "stdout",
     "output_type": "stream",
     "text": [
      "Requirement already satisfied: streamlit in c:\\users\\bhavy\\desktop\\projects\\python-based-projects\\9_movie-recommender-system\\venv\\lib\\site-packages (from -r requirements.txt (line 1)) (1.41.1)\n",
      "Requirement already satisfied: dvc_s3 in c:\\users\\bhavy\\desktop\\projects\\python-based-projects\\9_movie-recommender-system\\venv\\lib\\site-packages (from -r requirements.txt (line 2)) (3.2.0)\n",
      "Requirement already satisfied: pandas in c:\\users\\bhavy\\desktop\\projects\\python-based-projects\\9_movie-recommender-system\\venv\\lib\\site-packages (from -r requirements.txt (line 3)) (2.2.3)\n",
      "Requirement already satisfied: numpy in c:\\users\\bhavy\\desktop\\projects\\python-based-projects\\9_movie-recommender-system\\venv\\lib\\site-packages (from -r requirements.txt (line 4)) (2.2.1)\n",
      "Requirement already satisfied: python-dotenv in c:\\users\\bhavy\\desktop\\projects\\python-based-projects\\9_movie-recommender-system\\venv\\lib\\site-packages (from -r requirements.txt (line 5)) (1.0.1)\n",
      "Requirement already satisfied: scikit-learn in c:\\users\\bhavy\\desktop\\projects\\python-based-projects\\9_movie-recommender-system\\venv\\lib\\site-packages (from -r requirements.txt (line 6)) (1.6.0)\n",
      "Requirement already satisfied: mlflow in c:\\users\\bhavy\\desktop\\projects\\python-based-projects\\9_movie-recommender-system\\venv\\lib\\site-packages (from -r requirements.txt (line 7)) (2.19.0)\n",
      "Requirement already satisfied: dagshub in c:\\users\\bhavy\\desktop\\projects\\python-based-projects\\9_movie-recommender-system\\venv\\lib\\site-packages (from -r requirements.txt (line 8)) (0.4.0)\n",
      "Collecting nltk (from -r requirements.txt (line 9))\n",
      "  Using cached nltk-3.9.1-py3-none-any.whl.metadata (2.9 kB)\n",
      "Requirement already satisfied: altair<6,>=4.0 in c:\\users\\bhavy\\desktop\\projects\\python-based-projects\\9_movie-recommender-system\\venv\\lib\\site-packages (from streamlit->-r requirements.txt (line 1)) (5.5.0)\n",
      "Requirement already satisfied: blinker<2,>=1.0.0 in c:\\users\\bhavy\\desktop\\projects\\python-based-projects\\9_movie-recommender-system\\venv\\lib\\site-packages (from streamlit->-r requirements.txt (line 1)) (1.9.0)\n",
      "Requirement already satisfied: cachetools<6,>=4.0 in c:\\users\\bhavy\\desktop\\projects\\python-based-projects\\9_movie-recommender-system\\venv\\lib\\site-packages (from streamlit->-r requirements.txt (line 1)) (5.5.0)\n",
      "Requirement already satisfied: click<9,>=7.0 in c:\\users\\bhavy\\desktop\\projects\\python-based-projects\\9_movie-recommender-system\\venv\\lib\\site-packages (from streamlit->-r requirements.txt (line 1)) (8.1.8)\n",
      "Requirement already satisfied: packaging<25,>=20 in c:\\users\\bhavy\\desktop\\projects\\python-based-projects\\9_movie-recommender-system\\venv\\lib\\site-packages (from streamlit->-r requirements.txt (line 1)) (24.2)\n",
      "Requirement already satisfied: pillow<12,>=7.1.0 in c:\\users\\bhavy\\desktop\\projects\\python-based-projects\\9_movie-recommender-system\\venv\\lib\\site-packages (from streamlit->-r requirements.txt (line 1)) (11.0.0)\n",
      "Requirement already satisfied: protobuf<6,>=3.20 in c:\\users\\bhavy\\desktop\\projects\\python-based-projects\\9_movie-recommender-system\\venv\\lib\\site-packages (from streamlit->-r requirements.txt (line 1)) (5.29.2)\n",
      "Requirement already satisfied: pyarrow>=7.0 in c:\\users\\bhavy\\desktop\\projects\\python-based-projects\\9_movie-recommender-system\\venv\\lib\\site-packages (from streamlit->-r requirements.txt (line 1)) (18.1.0)\n",
      "Requirement already satisfied: requests<3,>=2.27 in c:\\users\\bhavy\\desktop\\projects\\python-based-projects\\9_movie-recommender-system\\venv\\lib\\site-packages (from streamlit->-r requirements.txt (line 1)) (2.32.3)\n",
      "Requirement already satisfied: rich<14,>=10.14.0 in c:\\users\\bhavy\\desktop\\projects\\python-based-projects\\9_movie-recommender-system\\venv\\lib\\site-packages (from streamlit->-r requirements.txt (line 1)) (13.9.4)\n",
      "Requirement already satisfied: tenacity<10,>=8.1.0 in c:\\users\\bhavy\\desktop\\projects\\python-based-projects\\9_movie-recommender-system\\venv\\lib\\site-packages (from streamlit->-r requirements.txt (line 1)) (9.0.0)\n",
      "Requirement already satisfied: toml<2,>=0.10.1 in c:\\users\\bhavy\\desktop\\projects\\python-based-projects\\9_movie-recommender-system\\venv\\lib\\site-packages (from streamlit->-r requirements.txt (line 1)) (0.10.2)\n",
      "Requirement already satisfied: typing-extensions<5,>=4.3.0 in c:\\users\\bhavy\\desktop\\projects\\python-based-projects\\9_movie-recommender-system\\venv\\lib\\site-packages (from streamlit->-r requirements.txt (line 1)) (4.12.2)\n",
      "Requirement already satisfied: watchdog<7,>=2.1.5 in c:\\users\\bhavy\\desktop\\projects\\python-based-projects\\9_movie-recommender-system\\venv\\lib\\site-packages (from streamlit->-r requirements.txt (line 1)) (6.0.0)\n",
      "Requirement already satisfied: gitpython!=3.1.19,<4,>=3.0.7 in c:\\users\\bhavy\\desktop\\projects\\python-based-projects\\9_movie-recommender-system\\venv\\lib\\site-packages (from streamlit->-r requirements.txt (line 1)) (3.1.43)\n",
      "Requirement already satisfied: pydeck<1,>=0.8.0b4 in c:\\users\\bhavy\\desktop\\projects\\python-based-projects\\9_movie-recommender-system\\venv\\lib\\site-packages (from streamlit->-r requirements.txt (line 1)) (0.9.1)\n",
      "Requirement already satisfied: tornado<7,>=6.0.3 in c:\\users\\bhavy\\desktop\\projects\\python-based-projects\\9_movie-recommender-system\\venv\\lib\\site-packages (from streamlit->-r requirements.txt (line 1)) (6.4.2)\n",
      "Requirement already satisfied: dvc in c:\\users\\bhavy\\desktop\\projects\\python-based-projects\\9_movie-recommender-system\\venv\\lib\\site-packages (from dvc_s3->-r requirements.txt (line 2)) (3.58.0)\n",
      "Requirement already satisfied: s3fs>=2023.6.0 in c:\\users\\bhavy\\desktop\\projects\\python-based-projects\\9_movie-recommender-system\\venv\\lib\\site-packages (from dvc_s3->-r requirements.txt (line 2)) (2024.12.0)\n",
      "Requirement already satisfied: aiobotocore>=2.5.0 in c:\\users\\bhavy\\desktop\\projects\\python-based-projects\\9_movie-recommender-system\\venv\\lib\\site-packages (from aiobotocore[boto3]>=2.5.0->dvc_s3->-r requirements.txt (line 2)) (2.16.0)\n",
      "Requirement already satisfied: flatten-dict<1,>=0.4.1 in c:\\users\\bhavy\\desktop\\projects\\python-based-projects\\9_movie-recommender-system\\venv\\lib\\site-packages (from dvc_s3->-r requirements.txt (line 2)) (0.4.2)\n",
      "Requirement already satisfied: python-dateutil>=2.8.2 in c:\\users\\bhavy\\desktop\\projects\\python-based-projects\\9_movie-recommender-system\\venv\\lib\\site-packages (from pandas->-r requirements.txt (line 3)) (2.9.0.post0)\n",
      "Requirement already satisfied: pytz>=2020.1 in c:\\users\\bhavy\\desktop\\projects\\python-based-projects\\9_movie-recommender-system\\venv\\lib\\site-packages (from pandas->-r requirements.txt (line 3)) (2024.2)\n",
      "Requirement already satisfied: tzdata>=2022.7 in c:\\users\\bhavy\\desktop\\projects\\python-based-projects\\9_movie-recommender-system\\venv\\lib\\site-packages (from pandas->-r requirements.txt (line 3)) (2024.2)\n",
      "Requirement already satisfied: scipy>=1.6.0 in c:\\users\\bhavy\\desktop\\projects\\python-based-projects\\9_movie-recommender-system\\venv\\lib\\site-packages (from scikit-learn->-r requirements.txt (line 6)) (1.14.1)\n",
      "Requirement already satisfied: joblib>=1.2.0 in c:\\users\\bhavy\\desktop\\projects\\python-based-projects\\9_movie-recommender-system\\venv\\lib\\site-packages (from scikit-learn->-r requirements.txt (line 6)) (1.4.2)\n",
      "Requirement already satisfied: threadpoolctl>=3.1.0 in c:\\users\\bhavy\\desktop\\projects\\python-based-projects\\9_movie-recommender-system\\venv\\lib\\site-packages (from scikit-learn->-r requirements.txt (line 6)) (3.5.0)\n",
      "Requirement already satisfied: mlflow-skinny==2.19.0 in c:\\users\\bhavy\\desktop\\projects\\python-based-projects\\9_movie-recommender-system\\venv\\lib\\site-packages (from mlflow->-r requirements.txt (line 7)) (2.19.0)\n",
      "Requirement already satisfied: Flask<4 in c:\\users\\bhavy\\desktop\\projects\\python-based-projects\\9_movie-recommender-system\\venv\\lib\\site-packages (from mlflow->-r requirements.txt (line 7)) (3.1.0)\n",
      "Requirement already satisfied: Jinja2<4,>=3.0 in c:\\users\\bhavy\\desktop\\projects\\python-based-projects\\9_movie-recommender-system\\venv\\lib\\site-packages (from mlflow->-r requirements.txt (line 7)) (3.1.5)\n",
      "Requirement already satisfied: alembic!=1.10.0,<2 in c:\\users\\bhavy\\desktop\\projects\\python-based-projects\\9_movie-recommender-system\\venv\\lib\\site-packages (from mlflow->-r requirements.txt (line 7)) (1.14.0)\n",
      "Requirement already satisfied: docker<8,>=4.0.0 in c:\\users\\bhavy\\desktop\\projects\\python-based-projects\\9_movie-recommender-system\\venv\\lib\\site-packages (from mlflow->-r requirements.txt (line 7)) (7.1.0)\n",
      "Requirement already satisfied: graphene<4 in c:\\users\\bhavy\\desktop\\projects\\python-based-projects\\9_movie-recommender-system\\venv\\lib\\site-packages (from mlflow->-r requirements.txt (line 7)) (3.4.3)\n",
      "Requirement already satisfied: markdown<4,>=3.3 in c:\\users\\bhavy\\desktop\\projects\\python-based-projects\\9_movie-recommender-system\\venv\\lib\\site-packages (from mlflow->-r requirements.txt (line 7)) (3.7)\n",
      "Requirement already satisfied: matplotlib<4 in c:\\users\\bhavy\\desktop\\projects\\python-based-projects\\9_movie-recommender-system\\venv\\lib\\site-packages (from mlflow->-r requirements.txt (line 7)) (3.10.0)\n",
      "Requirement already satisfied: sqlalchemy<3,>=1.4.0 in c:\\users\\bhavy\\desktop\\projects\\python-based-projects\\9_movie-recommender-system\\venv\\lib\\site-packages (from mlflow->-r requirements.txt (line 7)) (2.0.36)\n",
      "Requirement already satisfied: waitress<4 in c:\\users\\bhavy\\desktop\\projects\\python-based-projects\\9_movie-recommender-system\\venv\\lib\\site-packages (from mlflow->-r requirements.txt (line 7)) (3.0.2)\n",
      "Requirement already satisfied: cloudpickle<4 in c:\\users\\bhavy\\desktop\\projects\\python-based-projects\\9_movie-recommender-system\\venv\\lib\\site-packages (from mlflow-skinny==2.19.0->mlflow->-r requirements.txt (line 7)) (3.1.0)\n",
      "Requirement already satisfied: databricks-sdk<1,>=0.20.0 in c:\\users\\bhavy\\desktop\\projects\\python-based-projects\\9_movie-recommender-system\\venv\\lib\\site-packages (from mlflow-skinny==2.19.0->mlflow->-r requirements.txt (line 7)) (0.40.0)\n",
      "Requirement already satisfied: importlib_metadata!=4.7.0,<9,>=3.7.0 in c:\\users\\bhavy\\desktop\\projects\\python-based-projects\\9_movie-recommender-system\\venv\\lib\\site-packages (from mlflow-skinny==2.19.0->mlflow->-r requirements.txt (line 7)) (8.5.0)\n",
      "Requirement already satisfied: opentelemetry-api<3,>=1.9.0 in c:\\users\\bhavy\\desktop\\projects\\python-based-projects\\9_movie-recommender-system\\venv\\lib\\site-packages (from mlflow-skinny==2.19.0->mlflow->-r requirements.txt (line 7)) (1.29.0)\n",
      "Requirement already satisfied: opentelemetry-sdk<3,>=1.9.0 in c:\\users\\bhavy\\desktop\\projects\\python-based-projects\\9_movie-recommender-system\\venv\\lib\\site-packages (from mlflow-skinny==2.19.0->mlflow->-r requirements.txt (line 7)) (1.29.0)\n",
      "Requirement already satisfied: pyyaml<7,>=5.1 in c:\\users\\bhavy\\desktop\\projects\\python-based-projects\\9_movie-recommender-system\\venv\\lib\\site-packages (from mlflow-skinny==2.19.0->mlflow->-r requirements.txt (line 7)) (6.0.2)\n",
      "Requirement already satisfied: sqlparse<1,>=0.4.0 in c:\\users\\bhavy\\desktop\\projects\\python-based-projects\\9_movie-recommender-system\\venv\\lib\\site-packages (from mlflow-skinny==2.19.0->mlflow->-r requirements.txt (line 7)) (0.5.3)\n",
      "Requirement already satisfied: appdirs>=1.4.4 in c:\\users\\bhavy\\desktop\\projects\\python-based-projects\\9_movie-recommender-system\\venv\\lib\\site-packages (from dagshub->-r requirements.txt (line 8)) (1.4.4)\n",
      "Requirement already satisfied: httpx>=0.23.0 in c:\\users\\bhavy\\desktop\\projects\\python-based-projects\\9_movie-recommender-system\\venv\\lib\\site-packages (from dagshub->-r requirements.txt (line 8)) (0.28.1)\n",
      "Requirement already satisfied: dacite~=1.6.0 in c:\\users\\bhavy\\desktop\\projects\\python-based-projects\\9_movie-recommender-system\\venv\\lib\\site-packages (from dagshub->-r requirements.txt (line 8)) (1.6.0)\n",
      "Requirement already satisfied: gql[requests] in c:\\users\\bhavy\\desktop\\projects\\python-based-projects\\9_movie-recommender-system\\venv\\lib\\site-packages (from dagshub->-r requirements.txt (line 8)) (3.5.0)\n",
      "Requirement already satisfied: dataclasses-json in c:\\users\\bhavy\\desktop\\projects\\python-based-projects\\9_movie-recommender-system\\venv\\lib\\site-packages (from dagshub->-r requirements.txt (line 8)) (0.6.7)\n",
      "Requirement already satisfied: treelib>=1.6.4 in c:\\users\\bhavy\\desktop\\projects\\python-based-projects\\9_movie-recommender-system\\venv\\lib\\site-packages (from dagshub->-r requirements.txt (line 8)) (1.7.0)\n",
      "Requirement already satisfied: pathvalidate>=3.0.0 in c:\\users\\bhavy\\desktop\\projects\\python-based-projects\\9_movie-recommender-system\\venv\\lib\\site-packages (from dagshub->-r requirements.txt (line 8)) (3.2.1)\n",
      "Requirement already satisfied: boto3 in c:\\users\\bhavy\\desktop\\projects\\python-based-projects\\9_movie-recommender-system\\venv\\lib\\site-packages (from dagshub->-r requirements.txt (line 8)) (1.35.81)\n",
      "Requirement already satisfied: dagshub-annotation-converter>=0.1.0 in c:\\users\\bhavy\\desktop\\projects\\python-based-projects\\9_movie-recommender-system\\venv\\lib\\site-packages (from dagshub->-r requirements.txt (line 8)) (0.1.2)\n",
      "Collecting regex>=2021.8.3 (from nltk->-r requirements.txt (line 9))\n",
      "  Using cached regex-2024.11.6-cp312-cp312-win_amd64.whl.metadata (41 kB)\n",
      "Requirement already satisfied: tqdm in c:\\users\\bhavy\\desktop\\projects\\python-based-projects\\9_movie-recommender-system\\venv\\lib\\site-packages (from nltk->-r requirements.txt (line 9)) (4.67.1)\n",
      "Requirement already satisfied: botocore<1.35.82,>=1.35.74 in c:\\users\\bhavy\\desktop\\projects\\python-based-projects\\9_movie-recommender-system\\venv\\lib\\site-packages (from aiobotocore>=2.5.0->aiobotocore[boto3]>=2.5.0->dvc_s3->-r requirements.txt (line 2)) (1.35.81)\n",
      "Requirement already satisfied: aiohttp<4.0.0,>=3.9.2 in c:\\users\\bhavy\\desktop\\projects\\python-based-projects\\9_movie-recommender-system\\venv\\lib\\site-packages (from aiobotocore>=2.5.0->aiobotocore[boto3]>=2.5.0->dvc_s3->-r requirements.txt (line 2)) (3.11.11)\n",
      "Requirement already satisfied: wrapt<2.0.0,>=1.10.10 in c:\\users\\bhavy\\desktop\\projects\\python-based-projects\\9_movie-recommender-system\\venv\\lib\\site-packages (from aiobotocore>=2.5.0->aiobotocore[boto3]>=2.5.0->dvc_s3->-r requirements.txt (line 2)) (1.17.0)\n",
      "Requirement already satisfied: aioitertools<1.0.0,>=0.5.1 in c:\\users\\bhavy\\desktop\\projects\\python-based-projects\\9_movie-recommender-system\\venv\\lib\\site-packages (from aiobotocore>=2.5.0->aiobotocore[boto3]>=2.5.0->dvc_s3->-r requirements.txt (line 2)) (0.12.0)\n",
      "Requirement already satisfied: Mako in c:\\users\\bhavy\\desktop\\projects\\python-based-projects\\9_movie-recommender-system\\venv\\lib\\site-packages (from alembic!=1.10.0,<2->mlflow->-r requirements.txt (line 7)) (1.3.8)\n",
      "Requirement already satisfied: jsonschema>=3.0 in c:\\users\\bhavy\\desktop\\projects\\python-based-projects\\9_movie-recommender-system\\venv\\lib\\site-packages (from altair<6,>=4.0->streamlit->-r requirements.txt (line 1)) (4.23.0)\n",
      "Requirement already satisfied: narwhals>=1.14.2 in c:\\users\\bhavy\\desktop\\projects\\python-based-projects\\9_movie-recommender-system\\venv\\lib\\site-packages (from altair<6,>=4.0->streamlit->-r requirements.txt (line 1)) (1.19.0)\n",
      "Requirement already satisfied: jmespath<2.0.0,>=0.7.1 in c:\\users\\bhavy\\desktop\\projects\\python-based-projects\\9_movie-recommender-system\\venv\\lib\\site-packages (from boto3->dagshub->-r requirements.txt (line 8)) (1.0.1)\n",
      "Requirement already satisfied: s3transfer<0.11.0,>=0.10.0 in c:\\users\\bhavy\\desktop\\projects\\python-based-projects\\9_movie-recommender-system\\venv\\lib\\site-packages (from boto3->dagshub->-r requirements.txt (line 8)) (0.10.4)\n",
      "Requirement already satisfied: colorama in c:\\users\\bhavy\\desktop\\projects\\python-based-projects\\9_movie-recommender-system\\venv\\lib\\site-packages (from click<9,>=7.0->streamlit->-r requirements.txt (line 1)) (0.4.6)\n",
      "Requirement already satisfied: lxml in c:\\users\\bhavy\\desktop\\projects\\python-based-projects\\9_movie-recommender-system\\venv\\lib\\site-packages (from dagshub-annotation-converter>=0.1.0->dagshub->-r requirements.txt (line 8)) (5.3.0)\n",
      "Requirement already satisfied: pydantic>=2.0.0 in c:\\users\\bhavy\\desktop\\projects\\python-based-projects\\9_movie-recommender-system\\venv\\lib\\site-packages (from dagshub-annotation-converter>=0.1.0->dagshub->-r requirements.txt (line 8)) (2.10.4)\n",
      "Requirement already satisfied: pywin32>=304 in c:\\users\\bhavy\\desktop\\projects\\python-based-projects\\9_movie-recommender-system\\venv\\lib\\site-packages (from docker<8,>=4.0.0->mlflow->-r requirements.txt (line 7)) (308)\n",
      "Requirement already satisfied: urllib3>=1.26.0 in c:\\users\\bhavy\\desktop\\projects\\python-based-projects\\9_movie-recommender-system\\venv\\lib\\site-packages (from docker<8,>=4.0.0->mlflow->-r requirements.txt (line 7)) (2.2.3)\n",
      "Requirement already satisfied: Werkzeug>=3.1 in c:\\users\\bhavy\\desktop\\projects\\python-based-projects\\9_movie-recommender-system\\venv\\lib\\site-packages (from Flask<4->mlflow->-r requirements.txt (line 7)) (3.1.3)\n",
      "Requirement already satisfied: itsdangerous>=2.2 in c:\\users\\bhavy\\desktop\\projects\\python-based-projects\\9_movie-recommender-system\\venv\\lib\\site-packages (from Flask<4->mlflow->-r requirements.txt (line 7)) (2.2.0)\n",
      "Requirement already satisfied: six<2.0,>=1.12 in c:\\users\\bhavy\\desktop\\projects\\python-based-projects\\9_movie-recommender-system\\venv\\lib\\site-packages (from flatten-dict<1,>=0.4.1->dvc_s3->-r requirements.txt (line 2)) (1.17.0)\n",
      "Requirement already satisfied: gitdb<5,>=4.0.1 in c:\\users\\bhavy\\desktop\\projects\\python-based-projects\\9_movie-recommender-system\\venv\\lib\\site-packages (from gitpython!=3.1.19,<4,>=3.0.7->streamlit->-r requirements.txt (line 1)) (4.0.11)\n",
      "Requirement already satisfied: graphql-core<3.3,>=3.1 in c:\\users\\bhavy\\desktop\\projects\\python-based-projects\\9_movie-recommender-system\\venv\\lib\\site-packages (from graphene<4->mlflow->-r requirements.txt (line 7)) (3.2.5)\n",
      "Requirement already satisfied: graphql-relay<3.3,>=3.1 in c:\\users\\bhavy\\desktop\\projects\\python-based-projects\\9_movie-recommender-system\\venv\\lib\\site-packages (from graphene<4->mlflow->-r requirements.txt (line 7)) (3.2.0)\n",
      "Requirement already satisfied: anyio in c:\\users\\bhavy\\desktop\\projects\\python-based-projects\\9_movie-recommender-system\\venv\\lib\\site-packages (from httpx>=0.23.0->dagshub->-r requirements.txt (line 8)) (4.7.0)\n",
      "Requirement already satisfied: certifi in c:\\users\\bhavy\\desktop\\projects\\python-based-projects\\9_movie-recommender-system\\venv\\lib\\site-packages (from httpx>=0.23.0->dagshub->-r requirements.txt (line 8)) (2024.12.14)\n",
      "Requirement already satisfied: httpcore==1.* in c:\\users\\bhavy\\desktop\\projects\\python-based-projects\\9_movie-recommender-system\\venv\\lib\\site-packages (from httpx>=0.23.0->dagshub->-r requirements.txt (line 8)) (1.0.7)\n",
      "Requirement already satisfied: idna in c:\\users\\bhavy\\desktop\\projects\\python-based-projects\\9_movie-recommender-system\\venv\\lib\\site-packages (from httpx>=0.23.0->dagshub->-r requirements.txt (line 8)) (3.10)\n",
      "Requirement already satisfied: h11<0.15,>=0.13 in c:\\users\\bhavy\\desktop\\projects\\python-based-projects\\9_movie-recommender-system\\venv\\lib\\site-packages (from httpcore==1.*->httpx>=0.23.0->dagshub->-r requirements.txt (line 8)) (0.14.0)\n",
      "Requirement already satisfied: MarkupSafe>=2.0 in c:\\users\\bhavy\\desktop\\projects\\python-based-projects\\9_movie-recommender-system\\venv\\lib\\site-packages (from Jinja2<4,>=3.0->mlflow->-r requirements.txt (line 7)) (3.0.2)\n",
      "Requirement already satisfied: contourpy>=1.0.1 in c:\\users\\bhavy\\desktop\\projects\\python-based-projects\\9_movie-recommender-system\\venv\\lib\\site-packages (from matplotlib<4->mlflow->-r requirements.txt (line 7)) (1.3.1)\n",
      "Requirement already satisfied: cycler>=0.10 in c:\\users\\bhavy\\desktop\\projects\\python-based-projects\\9_movie-recommender-system\\venv\\lib\\site-packages (from matplotlib<4->mlflow->-r requirements.txt (line 7)) (0.12.1)\n",
      "Requirement already satisfied: fonttools>=4.22.0 in c:\\users\\bhavy\\desktop\\projects\\python-based-projects\\9_movie-recommender-system\\venv\\lib\\site-packages (from matplotlib<4->mlflow->-r requirements.txt (line 7)) (4.55.3)\n",
      "Requirement already satisfied: kiwisolver>=1.3.1 in c:\\users\\bhavy\\desktop\\projects\\python-based-projects\\9_movie-recommender-system\\venv\\lib\\site-packages (from matplotlib<4->mlflow->-r requirements.txt (line 7)) (1.4.7)\n",
      "Requirement already satisfied: pyparsing>=2.3.1 in c:\\users\\bhavy\\desktop\\projects\\python-based-projects\\9_movie-recommender-system\\venv\\lib\\site-packages (from matplotlib<4->mlflow->-r requirements.txt (line 7)) (3.2.0)\n",
      "Requirement already satisfied: charset-normalizer<4,>=2 in c:\\users\\bhavy\\desktop\\projects\\python-based-projects\\9_movie-recommender-system\\venv\\lib\\site-packages (from requests<3,>=2.27->streamlit->-r requirements.txt (line 1)) (3.4.0)\n",
      "Requirement already satisfied: markdown-it-py>=2.2.0 in c:\\users\\bhavy\\desktop\\projects\\python-based-projects\\9_movie-recommender-system\\venv\\lib\\site-packages (from rich<14,>=10.14.0->streamlit->-r requirements.txt (line 1)) (3.0.0)\n",
      "Requirement already satisfied: pygments<3.0.0,>=2.13.0 in c:\\users\\bhavy\\desktop\\projects\\python-based-projects\\9_movie-recommender-system\\venv\\lib\\site-packages (from rich<14,>=10.14.0->streamlit->-r requirements.txt (line 1)) (2.18.0)\n",
      "Requirement already satisfied: fsspec==2024.12.0.* in c:\\users\\bhavy\\desktop\\projects\\python-based-projects\\9_movie-recommender-system\\venv\\lib\\site-packages (from s3fs>=2023.6.0->dvc_s3->-r requirements.txt (line 2)) (2024.12.0)\n",
      "Requirement already satisfied: greenlet!=0.4.17 in c:\\users\\bhavy\\desktop\\projects\\python-based-projects\\9_movie-recommender-system\\venv\\lib\\site-packages (from sqlalchemy<3,>=1.4.0->mlflow->-r requirements.txt (line 7)) (3.1.1)\n",
      "Requirement already satisfied: marshmallow<4.0.0,>=3.18.0 in c:\\users\\bhavy\\desktop\\projects\\python-based-projects\\9_movie-recommender-system\\venv\\lib\\site-packages (from dataclasses-json->dagshub->-r requirements.txt (line 8)) (3.23.2)\n",
      "Requirement already satisfied: typing-inspect<1,>=0.4.0 in c:\\users\\bhavy\\desktop\\projects\\python-based-projects\\9_movie-recommender-system\\venv\\lib\\site-packages (from dataclasses-json->dagshub->-r requirements.txt (line 8)) (0.9.0)\n",
      "Requirement already satisfied: attrs>=22.2.0 in c:\\users\\bhavy\\desktop\\projects\\python-based-projects\\9_movie-recommender-system\\venv\\lib\\site-packages (from dvc->dvc_s3->-r requirements.txt (line 2)) (24.3.0)\n",
      "Requirement already satisfied: celery in c:\\users\\bhavy\\desktop\\projects\\python-based-projects\\9_movie-recommender-system\\venv\\lib\\site-packages (from dvc->dvc_s3->-r requirements.txt (line 2)) (5.4.0)\n",
      "Requirement already satisfied: configobj>=5.0.9 in c:\\users\\bhavy\\desktop\\projects\\python-based-projects\\9_movie-recommender-system\\venv\\lib\\site-packages (from dvc->dvc_s3->-r requirements.txt (line 2)) (5.0.9)\n",
      "Requirement already satisfied: distro>=1.3 in c:\\users\\bhavy\\desktop\\projects\\python-based-projects\\9_movie-recommender-system\\venv\\lib\\site-packages (from dvc->dvc_s3->-r requirements.txt (line 2)) (1.9.0)\n",
      "Requirement already satisfied: dpath<3,>=2.1.0 in c:\\users\\bhavy\\desktop\\projects\\python-based-projects\\9_movie-recommender-system\\venv\\lib\\site-packages (from dvc->dvc_s3->-r requirements.txt (line 2)) (2.2.0)\n",
      "Requirement already satisfied: dulwich in c:\\users\\bhavy\\desktop\\projects\\python-based-projects\\9_movie-recommender-system\\venv\\lib\\site-packages (from dvc->dvc_s3->-r requirements.txt (line 2)) (0.22.7)\n",
      "Requirement already satisfied: dvc-data<3.17,>=3.16.2 in c:\\users\\bhavy\\desktop\\projects\\python-based-projects\\9_movie-recommender-system\\venv\\lib\\site-packages (from dvc->dvc_s3->-r requirements.txt (line 2)) (3.16.7)\n",
      "Requirement already satisfied: dvc-http>=2.29.0 in c:\\users\\bhavy\\desktop\\projects\\python-based-projects\\9_movie-recommender-system\\venv\\lib\\site-packages (from dvc->dvc_s3->-r requirements.txt (line 2)) (2.32.0)\n",
      "Requirement already satisfied: dvc-objects in c:\\users\\bhavy\\desktop\\projects\\python-based-projects\\9_movie-recommender-system\\venv\\lib\\site-packages (from dvc->dvc_s3->-r requirements.txt (line 2)) (5.1.0)\n",
      "Requirement already satisfied: dvc-render<2,>=1.0.1 in c:\\users\\bhavy\\desktop\\projects\\python-based-projects\\9_movie-recommender-system\\venv\\lib\\site-packages (from dvc->dvc_s3->-r requirements.txt (line 2)) (1.0.2)\n",
      "Requirement already satisfied: dvc-studio-client<1,>=0.21 in c:\\users\\bhavy\\desktop\\projects\\python-based-projects\\9_movie-recommender-system\\venv\\lib\\site-packages (from dvc->dvc_s3->-r requirements.txt (line 2)) (0.21.0)\n",
      "Requirement already satisfied: dvc-task<1,>=0.3.0 in c:\\users\\bhavy\\desktop\\projects\\python-based-projects\\9_movie-recommender-system\\venv\\lib\\site-packages (from dvc->dvc_s3->-r requirements.txt (line 2)) (0.40.2)\n",
      "Requirement already satisfied: flufl.lock<9,>=8.1.0 in c:\\users\\bhavy\\desktop\\projects\\python-based-projects\\9_movie-recommender-system\\venv\\lib\\site-packages (from dvc->dvc_s3->-r requirements.txt (line 2)) (8.1.0)\n",
      "Requirement already satisfied: funcy>=1.14 in c:\\users\\bhavy\\desktop\\projects\\python-based-projects\\9_movie-recommender-system\\venv\\lib\\site-packages (from dvc->dvc_s3->-r requirements.txt (line 2)) (2.0)\n",
      "Requirement already satisfied: grandalf<1,>=0.7 in c:\\users\\bhavy\\desktop\\projects\\python-based-projects\\9_movie-recommender-system\\venv\\lib\\site-packages (from dvc->dvc_s3->-r requirements.txt (line 2)) (0.8)\n",
      "Requirement already satisfied: gto<2,>=1.6.0 in c:\\users\\bhavy\\desktop\\projects\\python-based-projects\\9_movie-recommender-system\\venv\\lib\\site-packages (from dvc->dvc_s3->-r requirements.txt (line 2)) (1.7.2)\n",
      "Requirement already satisfied: hydra-core>=1.1 in c:\\users\\bhavy\\desktop\\projects\\python-based-projects\\9_movie-recommender-system\\venv\\lib\\site-packages (from dvc->dvc_s3->-r requirements.txt (line 2)) (1.3.2)\n",
      "Requirement already satisfied: iterative-telemetry>=0.0.7 in c:\\users\\bhavy\\desktop\\projects\\python-based-projects\\9_movie-recommender-system\\venv\\lib\\site-packages (from dvc->dvc_s3->-r requirements.txt (line 2)) (0.0.9)\n",
      "Requirement already satisfied: kombu in c:\\users\\bhavy\\desktop\\projects\\python-based-projects\\9_movie-recommender-system\\venv\\lib\\site-packages (from dvc->dvc_s3->-r requirements.txt (line 2)) (5.4.2)\n",
      "Requirement already satisfied: networkx>=2.5 in c:\\users\\bhavy\\desktop\\projects\\python-based-projects\\9_movie-recommender-system\\venv\\lib\\site-packages (from dvc->dvc_s3->-r requirements.txt (line 2)) (3.4.2)\n",
      "Requirement already satisfied: omegaconf in c:\\users\\bhavy\\desktop\\projects\\python-based-projects\\9_movie-recommender-system\\venv\\lib\\site-packages (from dvc->dvc_s3->-r requirements.txt (line 2)) (2.3.0)\n",
      "Requirement already satisfied: pathspec>=0.10.3 in c:\\users\\bhavy\\desktop\\projects\\python-based-projects\\9_movie-recommender-system\\venv\\lib\\site-packages (from dvc->dvc_s3->-r requirements.txt (line 2)) (0.12.1)\n",
      "Requirement already satisfied: platformdirs<5,>=3.1.1 in c:\\users\\bhavy\\desktop\\projects\\python-based-projects\\9_movie-recommender-system\\venv\\lib\\site-packages (from dvc->dvc_s3->-r requirements.txt (line 2)) (4.3.6)\n",
      "Requirement already satisfied: psutil>=5.8 in c:\\users\\bhavy\\desktop\\projects\\python-based-projects\\9_movie-recommender-system\\venv\\lib\\site-packages (from dvc->dvc_s3->-r requirements.txt (line 2)) (6.1.1)\n",
      "Requirement already satisfied: pydot>=1.2.4 in c:\\users\\bhavy\\desktop\\projects\\python-based-projects\\9_movie-recommender-system\\venv\\lib\\site-packages (from dvc->dvc_s3->-r requirements.txt (line 2)) (3.0.3)\n",
      "Requirement already satisfied: pygtrie>=2.3.2 in c:\\users\\bhavy\\desktop\\projects\\python-based-projects\\9_movie-recommender-system\\venv\\lib\\site-packages (from dvc->dvc_s3->-r requirements.txt (line 2)) (2.5.0)\n",
      "Requirement already satisfied: ruamel.yaml>=0.17.11 in c:\\users\\bhavy\\desktop\\projects\\python-based-projects\\9_movie-recommender-system\\venv\\lib\\site-packages (from dvc->dvc_s3->-r requirements.txt (line 2)) (0.18.6)\n",
      "Requirement already satisfied: scmrepo<4,>=3.3.8 in c:\\users\\bhavy\\desktop\\projects\\python-based-projects\\9_movie-recommender-system\\venv\\lib\\site-packages (from dvc->dvc_s3->-r requirements.txt (line 2)) (3.3.9)\n",
      "Requirement already satisfied: shortuuid>=0.5 in c:\\users\\bhavy\\desktop\\projects\\python-based-projects\\9_movie-recommender-system\\venv\\lib\\site-packages (from dvc->dvc_s3->-r requirements.txt (line 2)) (1.0.13)\n",
      "Requirement already satisfied: shtab<2,>=1.3.4 in c:\\users\\bhavy\\desktop\\projects\\python-based-projects\\9_movie-recommender-system\\venv\\lib\\site-packages (from dvc->dvc_s3->-r requirements.txt (line 2)) (1.7.1)\n",
      "Requirement already satisfied: tabulate>=0.8.7 in c:\\users\\bhavy\\desktop\\projects\\python-based-projects\\9_movie-recommender-system\\venv\\lib\\site-packages (from dvc->dvc_s3->-r requirements.txt (line 2)) (0.9.0)\n",
      "Requirement already satisfied: tomlkit>=0.11.1 in c:\\users\\bhavy\\desktop\\projects\\python-based-projects\\9_movie-recommender-system\\venv\\lib\\site-packages (from dvc->dvc_s3->-r requirements.txt (line 2)) (0.13.2)\n",
      "Requirement already satisfied: voluptuous>=0.11.7 in c:\\users\\bhavy\\desktop\\projects\\python-based-projects\\9_movie-recommender-system\\venv\\lib\\site-packages (from dvc->dvc_s3->-r requirements.txt (line 2)) (0.15.2)\n",
      "Requirement already satisfied: zc.lockfile>=1.2.1 in c:\\users\\bhavy\\desktop\\projects\\python-based-projects\\9_movie-recommender-system\\venv\\lib\\site-packages (from dvc->dvc_s3->-r requirements.txt (line 2)) (3.0.post1)\n",
      "Requirement already satisfied: yarl<2.0,>=1.6 in c:\\users\\bhavy\\desktop\\projects\\python-based-projects\\9_movie-recommender-system\\venv\\lib\\site-packages (from gql[requests]->dagshub->-r requirements.txt (line 8)) (1.18.3)\n",
      "Requirement already satisfied: backoff<3.0,>=1.11.1 in c:\\users\\bhavy\\desktop\\projects\\python-based-projects\\9_movie-recommender-system\\venv\\lib\\site-packages (from gql[requests]->dagshub->-r requirements.txt (line 8)) (2.2.1)\n",
      "Requirement already satisfied: requests-toolbelt<2,>=1.0.0 in c:\\users\\bhavy\\desktop\\projects\\python-based-projects\\9_movie-recommender-system\\venv\\lib\\site-packages (from gql[requests]->dagshub->-r requirements.txt (line 8)) (1.0.0)\n",
      "Requirement already satisfied: aiohappyeyeballs>=2.3.0 in c:\\users\\bhavy\\desktop\\projects\\python-based-projects\\9_movie-recommender-system\\venv\\lib\\site-packages (from aiohttp<4.0.0,>=3.9.2->aiobotocore>=2.5.0->aiobotocore[boto3]>=2.5.0->dvc_s3->-r requirements.txt (line 2)) (2.4.4)\n",
      "Requirement already satisfied: aiosignal>=1.1.2 in c:\\users\\bhavy\\desktop\\projects\\python-based-projects\\9_movie-recommender-system\\venv\\lib\\site-packages (from aiohttp<4.0.0,>=3.9.2->aiobotocore>=2.5.0->aiobotocore[boto3]>=2.5.0->dvc_s3->-r requirements.txt (line 2)) (1.3.2)\n",
      "Requirement already satisfied: frozenlist>=1.1.1 in c:\\users\\bhavy\\desktop\\projects\\python-based-projects\\9_movie-recommender-system\\venv\\lib\\site-packages (from aiohttp<4.0.0,>=3.9.2->aiobotocore>=2.5.0->aiobotocore[boto3]>=2.5.0->dvc_s3->-r requirements.txt (line 2)) (1.5.0)\n",
      "Requirement already satisfied: multidict<7.0,>=4.5 in c:\\users\\bhavy\\desktop\\projects\\python-based-projects\\9_movie-recommender-system\\venv\\lib\\site-packages (from aiohttp<4.0.0,>=3.9.2->aiobotocore>=2.5.0->aiobotocore[boto3]>=2.5.0->dvc_s3->-r requirements.txt (line 2)) (6.1.0)\n",
      "Requirement already satisfied: propcache>=0.2.0 in c:\\users\\bhavy\\desktop\\projects\\python-based-projects\\9_movie-recommender-system\\venv\\lib\\site-packages (from aiohttp<4.0.0,>=3.9.2->aiobotocore>=2.5.0->aiobotocore[boto3]>=2.5.0->dvc_s3->-r requirements.txt (line 2)) (0.2.1)\n",
      "Requirement already satisfied: sniffio>=1.1 in c:\\users\\bhavy\\desktop\\projects\\python-based-projects\\9_movie-recommender-system\\venv\\lib\\site-packages (from anyio->httpx>=0.23.0->dagshub->-r requirements.txt (line 8)) (1.3.1)\n",
      "Requirement already satisfied: google-auth~=2.0 in c:\\users\\bhavy\\desktop\\projects\\python-based-projects\\9_movie-recommender-system\\venv\\lib\\site-packages (from databricks-sdk<1,>=0.20.0->mlflow-skinny==2.19.0->mlflow->-r requirements.txt (line 7)) (2.37.0)\n",
      "Requirement already satisfied: dictdiffer>=0.8.1 in c:\\users\\bhavy\\desktop\\projects\\python-based-projects\\9_movie-recommender-system\\venv\\lib\\site-packages (from dvc-data<3.17,>=3.16.2->dvc->dvc_s3->-r requirements.txt (line 2)) (0.9.0)\n",
      "Requirement already satisfied: diskcache>=5.2.1 in c:\\users\\bhavy\\desktop\\projects\\python-based-projects\\9_movie-recommender-system\\venv\\lib\\site-packages (from dvc-data<3.17,>=3.16.2->dvc->dvc_s3->-r requirements.txt (line 2)) (5.6.3)\n",
      "Requirement already satisfied: sqltrie<1,>=0.11.0 in c:\\users\\bhavy\\desktop\\projects\\python-based-projects\\9_movie-recommender-system\\venv\\lib\\site-packages (from dvc-data<3.17,>=3.16.2->dvc->dvc_s3->-r requirements.txt (line 2)) (0.11.1)\n",
      "Requirement already satisfied: orjson<4,>=3 in c:\\users\\bhavy\\desktop\\projects\\python-based-projects\\9_movie-recommender-system\\venv\\lib\\site-packages (from dvc-data<3.17,>=3.16.2->dvc->dvc_s3->-r requirements.txt (line 2)) (3.10.12)\n",
      "Requirement already satisfied: aiohttp-retry>=2.5.0 in c:\\users\\bhavy\\desktop\\projects\\python-based-projects\\9_movie-recommender-system\\venv\\lib\\site-packages (from dvc-http>=2.29.0->dvc->dvc_s3->-r requirements.txt (line 2)) (2.9.1)\n",
      "Requirement already satisfied: billiard<5.0,>=4.2.0 in c:\\users\\bhavy\\desktop\\projects\\python-based-projects\\9_movie-recommender-system\\venv\\lib\\site-packages (from celery->dvc->dvc_s3->-r requirements.txt (line 2)) (4.2.1)\n",
      "Requirement already satisfied: vine<6.0,>=5.1.0 in c:\\users\\bhavy\\desktop\\projects\\python-based-projects\\9_movie-recommender-system\\venv\\lib\\site-packages (from celery->dvc->dvc_s3->-r requirements.txt (line 2)) (5.1.0)\n",
      "Requirement already satisfied: click-didyoumean>=0.3.0 in c:\\users\\bhavy\\desktop\\projects\\python-based-projects\\9_movie-recommender-system\\venv\\lib\\site-packages (from celery->dvc->dvc_s3->-r requirements.txt (line 2)) (0.3.1)\n",
      "Requirement already satisfied: click-repl>=0.2.0 in c:\\users\\bhavy\\desktop\\projects\\python-based-projects\\9_movie-recommender-system\\venv\\lib\\site-packages (from celery->dvc->dvc_s3->-r requirements.txt (line 2)) (0.3.0)\n",
      "Requirement already satisfied: click-plugins>=1.1.1 in c:\\users\\bhavy\\desktop\\projects\\python-based-projects\\9_movie-recommender-system\\venv\\lib\\site-packages (from celery->dvc->dvc_s3->-r requirements.txt (line 2)) (1.1.1)\n",
      "Requirement already satisfied: atpublic in c:\\users\\bhavy\\desktop\\projects\\python-based-projects\\9_movie-recommender-system\\venv\\lib\\site-packages (from flufl.lock<9,>=8.1.0->dvc->dvc_s3->-r requirements.txt (line 2)) (5.0)\n",
      "Requirement already satisfied: smmap<6,>=3.0.1 in c:\\users\\bhavy\\desktop\\projects\\python-based-projects\\9_movie-recommender-system\\venv\\lib\\site-packages (from gitdb<5,>=4.0.1->gitpython!=3.1.19,<4,>=3.0.7->streamlit->-r requirements.txt (line 1)) (5.0.1)\n",
      "Requirement already satisfied: entrypoints in c:\\users\\bhavy\\desktop\\projects\\python-based-projects\\9_movie-recommender-system\\venv\\lib\\site-packages (from gto<2,>=1.6.0->dvc->dvc_s3->-r requirements.txt (line 2)) (0.4)\n",
      "Requirement already satisfied: semver>=2.13.0 in c:\\users\\bhavy\\desktop\\projects\\python-based-projects\\9_movie-recommender-system\\venv\\lib\\site-packages (from gto<2,>=1.6.0->dvc->dvc_s3->-r requirements.txt (line 2)) (3.0.2)\n",
      "Requirement already satisfied: typer>=0.4.1 in c:\\users\\bhavy\\desktop\\projects\\python-based-projects\\9_movie-recommender-system\\venv\\lib\\site-packages (from gto<2,>=1.6.0->dvc->dvc_s3->-r requirements.txt (line 2)) (0.15.1)\n",
      "Requirement already satisfied: antlr4-python3-runtime==4.9.* in c:\\users\\bhavy\\desktop\\projects\\python-based-projects\\9_movie-recommender-system\\venv\\lib\\site-packages (from hydra-core>=1.1->dvc->dvc_s3->-r requirements.txt (line 2)) (4.9.3)\n",
      "Requirement already satisfied: zipp>=3.20 in c:\\users\\bhavy\\desktop\\projects\\python-based-projects\\9_movie-recommender-system\\venv\\lib\\site-packages (from importlib_metadata!=4.7.0,<9,>=3.7.0->mlflow-skinny==2.19.0->mlflow->-r requirements.txt (line 7)) (3.21.0)\n",
      "Requirement already satisfied: filelock in c:\\users\\bhavy\\desktop\\projects\\python-based-projects\\9_movie-recommender-system\\venv\\lib\\site-packages (from iterative-telemetry>=0.0.7->dvc->dvc_s3->-r requirements.txt (line 2)) (3.16.1)\n",
      "Requirement already satisfied: jsonschema-specifications>=2023.03.6 in c:\\users\\bhavy\\desktop\\projects\\python-based-projects\\9_movie-recommender-system\\venv\\lib\\site-packages (from jsonschema>=3.0->altair<6,>=4.0->streamlit->-r requirements.txt (line 1)) (2024.10.1)\n",
      "Requirement already satisfied: referencing>=0.28.4 in c:\\users\\bhavy\\desktop\\projects\\python-based-projects\\9_movie-recommender-system\\venv\\lib\\site-packages (from jsonschema>=3.0->altair<6,>=4.0->streamlit->-r requirements.txt (line 1)) (0.35.1)\n",
      "Requirement already satisfied: rpds-py>=0.7.1 in c:\\users\\bhavy\\desktop\\projects\\python-based-projects\\9_movie-recommender-system\\venv\\lib\\site-packages (from jsonschema>=3.0->altair<6,>=4.0->streamlit->-r requirements.txt (line 1)) (0.22.3)\n",
      "Requirement already satisfied: amqp<6.0.0,>=5.1.1 in c:\\users\\bhavy\\desktop\\projects\\python-based-projects\\9_movie-recommender-system\\venv\\lib\\site-packages (from kombu->dvc->dvc_s3->-r requirements.txt (line 2)) (5.3.1)\n",
      "Requirement already satisfied: mdurl~=0.1 in c:\\users\\bhavy\\desktop\\projects\\python-based-projects\\9_movie-recommender-system\\venv\\lib\\site-packages (from markdown-it-py>=2.2.0->rich<14,>=10.14.0->streamlit->-r requirements.txt (line 1)) (0.1.2)\n",
      "Requirement already satisfied: deprecated>=1.2.6 in c:\\users\\bhavy\\desktop\\projects\\python-based-projects\\9_movie-recommender-system\\venv\\lib\\site-packages (from opentelemetry-api<3,>=1.9.0->mlflow-skinny==2.19.0->mlflow->-r requirements.txt (line 7)) (1.2.15)\n",
      "Requirement already satisfied: opentelemetry-semantic-conventions==0.50b0 in c:\\users\\bhavy\\desktop\\projects\\python-based-projects\\9_movie-recommender-system\\venv\\lib\\site-packages (from opentelemetry-sdk<3,>=1.9.0->mlflow-skinny==2.19.0->mlflow->-r requirements.txt (line 7)) (0.50b0)\n",
      "Requirement already satisfied: annotated-types>=0.6.0 in c:\\users\\bhavy\\desktop\\projects\\python-based-projects\\9_movie-recommender-system\\venv\\lib\\site-packages (from pydantic>=2.0.0->dagshub-annotation-converter>=0.1.0->dagshub->-r requirements.txt (line 8)) (0.7.0)\n",
      "Requirement already satisfied: pydantic-core==2.27.2 in c:\\users\\bhavy\\desktop\\projects\\python-based-projects\\9_movie-recommender-system\\venv\\lib\\site-packages (from pydantic>=2.0.0->dagshub-annotation-converter>=0.1.0->dagshub->-r requirements.txt (line 8)) (2.27.2)\n",
      "Requirement already satisfied: ruamel.yaml.clib>=0.2.7 in c:\\users\\bhavy\\desktop\\projects\\python-based-projects\\9_movie-recommender-system\\venv\\lib\\site-packages (from ruamel.yaml>=0.17.11->dvc->dvc_s3->-r requirements.txt (line 2)) (0.2.12)\n",
      "Requirement already satisfied: pygit2>=1.14.0 in c:\\users\\bhavy\\desktop\\projects\\python-based-projects\\9_movie-recommender-system\\venv\\lib\\site-packages (from scmrepo<4,>=3.3.8->dvc->dvc_s3->-r requirements.txt (line 2)) (1.16.0)\n",
      "Requirement already satisfied: asyncssh<3,>=2.13.1 in c:\\users\\bhavy\\desktop\\projects\\python-based-projects\\9_movie-recommender-system\\venv\\lib\\site-packages (from scmrepo<4,>=3.3.8->dvc->dvc_s3->-r requirements.txt (line 2)) (2.19.0)\n",
      "Requirement already satisfied: mypy-extensions>=0.3.0 in c:\\users\\bhavy\\desktop\\projects\\python-based-projects\\9_movie-recommender-system\\venv\\lib\\site-packages (from typing-inspect<1,>=0.4.0->dataclasses-json->dagshub->-r requirements.txt (line 8)) (1.0.0)\n",
      "Requirement already satisfied: setuptools in c:\\users\\bhavy\\desktop\\projects\\python-based-projects\\9_movie-recommender-system\\venv\\lib\\site-packages (from zc.lockfile>=1.2.1->dvc->dvc_s3->-r requirements.txt (line 2)) (75.6.0)\n",
      "Requirement already satisfied: cryptography>=39.0 in c:\\users\\bhavy\\desktop\\projects\\python-based-projects\\9_movie-recommender-system\\venv\\lib\\site-packages (from asyncssh<3,>=2.13.1->scmrepo<4,>=3.3.8->dvc->dvc_s3->-r requirements.txt (line 2)) (44.0.0)\n",
      "Requirement already satisfied: prompt-toolkit>=3.0.36 in c:\\users\\bhavy\\desktop\\projects\\python-based-projects\\9_movie-recommender-system\\venv\\lib\\site-packages (from click-repl>=0.2.0->celery->dvc->dvc_s3->-r requirements.txt (line 2)) (3.0.48)\n",
      "Requirement already satisfied: pyasn1-modules>=0.2.1 in c:\\users\\bhavy\\desktop\\projects\\python-based-projects\\9_movie-recommender-system\\venv\\lib\\site-packages (from google-auth~=2.0->databricks-sdk<1,>=0.20.0->mlflow-skinny==2.19.0->mlflow->-r requirements.txt (line 7)) (0.4.1)\n",
      "Requirement already satisfied: rsa<5,>=3.1.4 in c:\\users\\bhavy\\desktop\\projects\\python-based-projects\\9_movie-recommender-system\\venv\\lib\\site-packages (from google-auth~=2.0->databricks-sdk<1,>=0.20.0->mlflow-skinny==2.19.0->mlflow->-r requirements.txt (line 7)) (4.9)\n",
      "Requirement already satisfied: cffi>=1.17.0 in c:\\users\\bhavy\\desktop\\projects\\python-based-projects\\9_movie-recommender-system\\venv\\lib\\site-packages (from pygit2>=1.14.0->scmrepo<4,>=3.3.8->dvc->dvc_s3->-r requirements.txt (line 2)) (1.17.1)\n",
      "Requirement already satisfied: shellingham>=1.3.0 in c:\\users\\bhavy\\desktop\\projects\\python-based-projects\\9_movie-recommender-system\\venv\\lib\\site-packages (from typer>=0.4.1->gto<2,>=1.6.0->dvc->dvc_s3->-r requirements.txt (line 2)) (1.5.4)\n",
      "Requirement already satisfied: pycparser in c:\\users\\bhavy\\desktop\\projects\\python-based-projects\\9_movie-recommender-system\\venv\\lib\\site-packages (from cffi>=1.17.0->pygit2>=1.14.0->scmrepo<4,>=3.3.8->dvc->dvc_s3->-r requirements.txt (line 2)) (2.22)\n",
      "Requirement already satisfied: wcwidth in c:\\users\\bhavy\\desktop\\projects\\python-based-projects\\9_movie-recommender-system\\venv\\lib\\site-packages (from prompt-toolkit>=3.0.36->click-repl>=0.2.0->celery->dvc->dvc_s3->-r requirements.txt (line 2)) (0.2.13)\n",
      "Requirement already satisfied: pyasn1<0.7.0,>=0.4.6 in c:\\users\\bhavy\\desktop\\projects\\python-based-projects\\9_movie-recommender-system\\venv\\lib\\site-packages (from pyasn1-modules>=0.2.1->google-auth~=2.0->databricks-sdk<1,>=0.20.0->mlflow-skinny==2.19.0->mlflow->-r requirements.txt (line 7)) (0.6.1)\n",
      "Using cached nltk-3.9.1-py3-none-any.whl (1.5 MB)\n",
      "Using cached regex-2024.11.6-cp312-cp312-win_amd64.whl (273 kB)\n",
      "Installing collected packages: regex, nltk\n",
      "Successfully installed nltk-3.9.1 regex-2024.11.6\n"
     ]
    },
    {
     "name": "stderr",
     "output_type": "stream",
     "text": [
      "\n",
      "[notice] A new release of pip is available: 24.2 -> 24.3.1\n",
      "[notice] To update, run: python.exe -m pip install --upgrade pip\n"
     ]
    }
   ],
   "source": [
    "!pip install -r requirements.txt"
   ]
  },
  {
   "cell_type": "code",
   "execution_count": 41,
   "metadata": {},
   "outputs": [],
   "source": [
    "import pandas as pd\n",
    "import numpy as np"
   ]
  },
  {
   "cell_type": "code",
   "execution_count": 42,
   "metadata": {},
   "outputs": [],
   "source": [
    "movies = pd.read_csv('dataset/tmdb_5000_movies.csv')\n",
    "credits = pd.read_csv('dataset/tmdb_5000_credits.csv')"
   ]
  },
  {
   "cell_type": "code",
   "execution_count": 43,
   "metadata": {},
   "outputs": [
    {
     "data": {
      "text/html": [
       "<div>\n",
       "<style scoped>\n",
       "    .dataframe tbody tr th:only-of-type {\n",
       "        vertical-align: middle;\n",
       "    }\n",
       "\n",
       "    .dataframe tbody tr th {\n",
       "        vertical-align: top;\n",
       "    }\n",
       "\n",
       "    .dataframe thead th {\n",
       "        text-align: right;\n",
       "    }\n",
       "</style>\n",
       "<table border=\"1\" class=\"dataframe\">\n",
       "  <thead>\n",
       "    <tr style=\"text-align: right;\">\n",
       "      <th></th>\n",
       "      <th>budget</th>\n",
       "      <th>genres</th>\n",
       "      <th>homepage</th>\n",
       "      <th>id</th>\n",
       "      <th>keywords</th>\n",
       "      <th>original_language</th>\n",
       "      <th>original_title</th>\n",
       "      <th>overview</th>\n",
       "      <th>popularity</th>\n",
       "      <th>production_companies</th>\n",
       "      <th>production_countries</th>\n",
       "      <th>release_date</th>\n",
       "      <th>revenue</th>\n",
       "      <th>runtime</th>\n",
       "      <th>spoken_languages</th>\n",
       "      <th>status</th>\n",
       "      <th>tagline</th>\n",
       "      <th>title</th>\n",
       "      <th>vote_average</th>\n",
       "      <th>vote_count</th>\n",
       "    </tr>\n",
       "  </thead>\n",
       "  <tbody>\n",
       "    <tr>\n",
       "      <th>0</th>\n",
       "      <td>237000000</td>\n",
       "      <td>[{\"id\": 28, \"name\": \"Action\"}, {\"id\": 12, \"nam...</td>\n",
       "      <td>http://www.avatarmovie.com/</td>\n",
       "      <td>19995</td>\n",
       "      <td>[{\"id\": 1463, \"name\": \"culture clash\"}, {\"id\":...</td>\n",
       "      <td>en</td>\n",
       "      <td>Avatar</td>\n",
       "      <td>In the 22nd century, a paraplegic Marine is di...</td>\n",
       "      <td>150.437577</td>\n",
       "      <td>[{\"name\": \"Ingenious Film Partners\", \"id\": 289...</td>\n",
       "      <td>[{\"iso_3166_1\": \"US\", \"name\": \"United States o...</td>\n",
       "      <td>2009-12-10</td>\n",
       "      <td>2787965087</td>\n",
       "      <td>162.0</td>\n",
       "      <td>[{\"iso_639_1\": \"en\", \"name\": \"English\"}, {\"iso...</td>\n",
       "      <td>Released</td>\n",
       "      <td>Enter the World of Pandora.</td>\n",
       "      <td>Avatar</td>\n",
       "      <td>7.2</td>\n",
       "      <td>11800</td>\n",
       "    </tr>\n",
       "    <tr>\n",
       "      <th>1</th>\n",
       "      <td>300000000</td>\n",
       "      <td>[{\"id\": 12, \"name\": \"Adventure\"}, {\"id\": 14, \"...</td>\n",
       "      <td>http://disney.go.com/disneypictures/pirates/</td>\n",
       "      <td>285</td>\n",
       "      <td>[{\"id\": 270, \"name\": \"ocean\"}, {\"id\": 726, \"na...</td>\n",
       "      <td>en</td>\n",
       "      <td>Pirates of the Caribbean: At World's End</td>\n",
       "      <td>Captain Barbossa, long believed to be dead, ha...</td>\n",
       "      <td>139.082615</td>\n",
       "      <td>[{\"name\": \"Walt Disney Pictures\", \"id\": 2}, {\"...</td>\n",
       "      <td>[{\"iso_3166_1\": \"US\", \"name\": \"United States o...</td>\n",
       "      <td>2007-05-19</td>\n",
       "      <td>961000000</td>\n",
       "      <td>169.0</td>\n",
       "      <td>[{\"iso_639_1\": \"en\", \"name\": \"English\"}]</td>\n",
       "      <td>Released</td>\n",
       "      <td>At the end of the world, the adventure begins.</td>\n",
       "      <td>Pirates of the Caribbean: At World's End</td>\n",
       "      <td>6.9</td>\n",
       "      <td>4500</td>\n",
       "    </tr>\n",
       "  </tbody>\n",
       "</table>\n",
       "</div>"
      ],
      "text/plain": [
       "      budget                                             genres  \\\n",
       "0  237000000  [{\"id\": 28, \"name\": \"Action\"}, {\"id\": 12, \"nam...   \n",
       "1  300000000  [{\"id\": 12, \"name\": \"Adventure\"}, {\"id\": 14, \"...   \n",
       "\n",
       "                                       homepage     id  \\\n",
       "0                   http://www.avatarmovie.com/  19995   \n",
       "1  http://disney.go.com/disneypictures/pirates/    285   \n",
       "\n",
       "                                            keywords original_language  \\\n",
       "0  [{\"id\": 1463, \"name\": \"culture clash\"}, {\"id\":...                en   \n",
       "1  [{\"id\": 270, \"name\": \"ocean\"}, {\"id\": 726, \"na...                en   \n",
       "\n",
       "                             original_title  \\\n",
       "0                                    Avatar   \n",
       "1  Pirates of the Caribbean: At World's End   \n",
       "\n",
       "                                            overview  popularity  \\\n",
       "0  In the 22nd century, a paraplegic Marine is di...  150.437577   \n",
       "1  Captain Barbossa, long believed to be dead, ha...  139.082615   \n",
       "\n",
       "                                production_companies  \\\n",
       "0  [{\"name\": \"Ingenious Film Partners\", \"id\": 289...   \n",
       "1  [{\"name\": \"Walt Disney Pictures\", \"id\": 2}, {\"...   \n",
       "\n",
       "                                production_countries release_date     revenue  \\\n",
       "0  [{\"iso_3166_1\": \"US\", \"name\": \"United States o...   2009-12-10  2787965087   \n",
       "1  [{\"iso_3166_1\": \"US\", \"name\": \"United States o...   2007-05-19   961000000   \n",
       "\n",
       "   runtime                                   spoken_languages    status  \\\n",
       "0    162.0  [{\"iso_639_1\": \"en\", \"name\": \"English\"}, {\"iso...  Released   \n",
       "1    169.0           [{\"iso_639_1\": \"en\", \"name\": \"English\"}]  Released   \n",
       "\n",
       "                                          tagline  \\\n",
       "0                     Enter the World of Pandora.   \n",
       "1  At the end of the world, the adventure begins.   \n",
       "\n",
       "                                      title  vote_average  vote_count  \n",
       "0                                    Avatar           7.2       11800  \n",
       "1  Pirates of the Caribbean: At World's End           6.9        4500  "
      ]
     },
     "execution_count": 43,
     "metadata": {},
     "output_type": "execute_result"
    }
   ],
   "source": [
    "movies.head(2)"
   ]
  },
  {
   "cell_type": "code",
   "execution_count": 44,
   "metadata": {},
   "outputs": [
    {
     "data": {
      "text/html": [
       "<div>\n",
       "<style scoped>\n",
       "    .dataframe tbody tr th:only-of-type {\n",
       "        vertical-align: middle;\n",
       "    }\n",
       "\n",
       "    .dataframe tbody tr th {\n",
       "        vertical-align: top;\n",
       "    }\n",
       "\n",
       "    .dataframe thead th {\n",
       "        text-align: right;\n",
       "    }\n",
       "</style>\n",
       "<table border=\"1\" class=\"dataframe\">\n",
       "  <thead>\n",
       "    <tr style=\"text-align: right;\">\n",
       "      <th></th>\n",
       "      <th>movie_id</th>\n",
       "      <th>title</th>\n",
       "      <th>cast</th>\n",
       "      <th>crew</th>\n",
       "    </tr>\n",
       "  </thead>\n",
       "  <tbody>\n",
       "    <tr>\n",
       "      <th>0</th>\n",
       "      <td>19995</td>\n",
       "      <td>Avatar</td>\n",
       "      <td>[{\"cast_id\": 242, \"character\": \"Jake Sully\", \"...</td>\n",
       "      <td>[{\"credit_id\": \"52fe48009251416c750aca23\", \"de...</td>\n",
       "    </tr>\n",
       "    <tr>\n",
       "      <th>1</th>\n",
       "      <td>285</td>\n",
       "      <td>Pirates of the Caribbean: At World's End</td>\n",
       "      <td>[{\"cast_id\": 4, \"character\": \"Captain Jack Spa...</td>\n",
       "      <td>[{\"credit_id\": \"52fe4232c3a36847f800b579\", \"de...</td>\n",
       "    </tr>\n",
       "  </tbody>\n",
       "</table>\n",
       "</div>"
      ],
      "text/plain": [
       "   movie_id                                     title  \\\n",
       "0     19995                                    Avatar   \n",
       "1       285  Pirates of the Caribbean: At World's End   \n",
       "\n",
       "                                                cast  \\\n",
       "0  [{\"cast_id\": 242, \"character\": \"Jake Sully\", \"...   \n",
       "1  [{\"cast_id\": 4, \"character\": \"Captain Jack Spa...   \n",
       "\n",
       "                                                crew  \n",
       "0  [{\"credit_id\": \"52fe48009251416c750aca23\", \"de...  \n",
       "1  [{\"credit_id\": \"52fe4232c3a36847f800b579\", \"de...  "
      ]
     },
     "execution_count": 44,
     "metadata": {},
     "output_type": "execute_result"
    }
   ],
   "source": [
    "credits.head(2)"
   ]
  },
  {
   "cell_type": "code",
   "execution_count": 45,
   "metadata": {},
   "outputs": [
    {
     "data": {
      "text/plain": [
       "((4803, 20), (4803, 4))"
      ]
     },
     "execution_count": 45,
     "metadata": {},
     "output_type": "execute_result"
    }
   ],
   "source": [
    "movies.shape , credits.shape"
   ]
  },
  {
   "cell_type": "code",
   "execution_count": 46,
   "metadata": {},
   "outputs": [],
   "source": [
    "movies = movies.merge(credits,on='title')"
   ]
  },
  {
   "cell_type": "code",
   "execution_count": 47,
   "metadata": {},
   "outputs": [
    {
     "data": {
      "text/html": [
       "<div>\n",
       "<style scoped>\n",
       "    .dataframe tbody tr th:only-of-type {\n",
       "        vertical-align: middle;\n",
       "    }\n",
       "\n",
       "    .dataframe tbody tr th {\n",
       "        vertical-align: top;\n",
       "    }\n",
       "\n",
       "    .dataframe thead th {\n",
       "        text-align: right;\n",
       "    }\n",
       "</style>\n",
       "<table border=\"1\" class=\"dataframe\">\n",
       "  <thead>\n",
       "    <tr style=\"text-align: right;\">\n",
       "      <th></th>\n",
       "      <th>budget</th>\n",
       "      <th>genres</th>\n",
       "      <th>homepage</th>\n",
       "      <th>id</th>\n",
       "      <th>keywords</th>\n",
       "      <th>original_language</th>\n",
       "      <th>original_title</th>\n",
       "      <th>overview</th>\n",
       "      <th>popularity</th>\n",
       "      <th>production_companies</th>\n",
       "      <th>...</th>\n",
       "      <th>runtime</th>\n",
       "      <th>spoken_languages</th>\n",
       "      <th>status</th>\n",
       "      <th>tagline</th>\n",
       "      <th>title</th>\n",
       "      <th>vote_average</th>\n",
       "      <th>vote_count</th>\n",
       "      <th>movie_id</th>\n",
       "      <th>cast</th>\n",
       "      <th>crew</th>\n",
       "    </tr>\n",
       "  </thead>\n",
       "  <tbody>\n",
       "    <tr>\n",
       "      <th>0</th>\n",
       "      <td>237000000</td>\n",
       "      <td>[{\"id\": 28, \"name\": \"Action\"}, {\"id\": 12, \"nam...</td>\n",
       "      <td>http://www.avatarmovie.com/</td>\n",
       "      <td>19995</td>\n",
       "      <td>[{\"id\": 1463, \"name\": \"culture clash\"}, {\"id\":...</td>\n",
       "      <td>en</td>\n",
       "      <td>Avatar</td>\n",
       "      <td>In the 22nd century, a paraplegic Marine is di...</td>\n",
       "      <td>150.437577</td>\n",
       "      <td>[{\"name\": \"Ingenious Film Partners\", \"id\": 289...</td>\n",
       "      <td>...</td>\n",
       "      <td>162.0</td>\n",
       "      <td>[{\"iso_639_1\": \"en\", \"name\": \"English\"}, {\"iso...</td>\n",
       "      <td>Released</td>\n",
       "      <td>Enter the World of Pandora.</td>\n",
       "      <td>Avatar</td>\n",
       "      <td>7.2</td>\n",
       "      <td>11800</td>\n",
       "      <td>19995</td>\n",
       "      <td>[{\"cast_id\": 242, \"character\": \"Jake Sully\", \"...</td>\n",
       "      <td>[{\"credit_id\": \"52fe48009251416c750aca23\", \"de...</td>\n",
       "    </tr>\n",
       "  </tbody>\n",
       "</table>\n",
       "<p>1 rows × 23 columns</p>\n",
       "</div>"
      ],
      "text/plain": [
       "      budget                                             genres  \\\n",
       "0  237000000  [{\"id\": 28, \"name\": \"Action\"}, {\"id\": 12, \"nam...   \n",
       "\n",
       "                      homepage     id  \\\n",
       "0  http://www.avatarmovie.com/  19995   \n",
       "\n",
       "                                            keywords original_language  \\\n",
       "0  [{\"id\": 1463, \"name\": \"culture clash\"}, {\"id\":...                en   \n",
       "\n",
       "  original_title                                           overview  \\\n",
       "0         Avatar  In the 22nd century, a paraplegic Marine is di...   \n",
       "\n",
       "   popularity                               production_companies  ... runtime  \\\n",
       "0  150.437577  [{\"name\": \"Ingenious Film Partners\", \"id\": 289...  ...   162.0   \n",
       "\n",
       "                                    spoken_languages    status  \\\n",
       "0  [{\"iso_639_1\": \"en\", \"name\": \"English\"}, {\"iso...  Released   \n",
       "\n",
       "                       tagline   title vote_average vote_count movie_id  \\\n",
       "0  Enter the World of Pandora.  Avatar          7.2      11800    19995   \n",
       "\n",
       "                                                cast  \\\n",
       "0  [{\"cast_id\": 242, \"character\": \"Jake Sully\", \"...   \n",
       "\n",
       "                                                crew  \n",
       "0  [{\"credit_id\": \"52fe48009251416c750aca23\", \"de...  \n",
       "\n",
       "[1 rows x 23 columns]"
      ]
     },
     "execution_count": 47,
     "metadata": {},
     "output_type": "execute_result"
    }
   ],
   "source": [
    "movies.head(1)"
   ]
  },
  {
   "cell_type": "code",
   "execution_count": 48,
   "metadata": {},
   "outputs": [
    {
     "name": "stdout",
     "output_type": "stream",
     "text": [
      "<class 'pandas.core.frame.DataFrame'>\n",
      "RangeIndex: 4809 entries, 0 to 4808\n",
      "Data columns (total 23 columns):\n",
      " #   Column                Non-Null Count  Dtype  \n",
      "---  ------                --------------  -----  \n",
      " 0   budget                4809 non-null   int64  \n",
      " 1   genres                4809 non-null   object \n",
      " 2   homepage              1713 non-null   object \n",
      " 3   id                    4809 non-null   int64  \n",
      " 4   keywords              4809 non-null   object \n",
      " 5   original_language     4809 non-null   object \n",
      " 6   original_title        4809 non-null   object \n",
      " 7   overview              4806 non-null   object \n",
      " 8   popularity            4809 non-null   float64\n",
      " 9   production_companies  4809 non-null   object \n",
      " 10  production_countries  4809 non-null   object \n",
      " 11  release_date          4808 non-null   object \n",
      " 12  revenue               4809 non-null   int64  \n",
      " 13  runtime               4807 non-null   float64\n",
      " 14  spoken_languages      4809 non-null   object \n",
      " 15  status                4809 non-null   object \n",
      " 16  tagline               3965 non-null   object \n",
      " 17  title                 4809 non-null   object \n",
      " 18  vote_average          4809 non-null   float64\n",
      " 19  vote_count            4809 non-null   int64  \n",
      " 20  movie_id              4809 non-null   int64  \n",
      " 21  cast                  4809 non-null   object \n",
      " 22  crew                  4809 non-null   object \n",
      "dtypes: float64(3), int64(5), object(15)\n",
      "memory usage: 864.2+ KB\n"
     ]
    }
   ],
   "source": [
    "movies.info()"
   ]
  },
  {
   "cell_type": "code",
   "execution_count": 49,
   "metadata": {},
   "outputs": [
    {
     "data": {
      "text/plain": [
       "<Axes: xlabel='original_language'>"
      ]
     },
     "execution_count": 49,
     "metadata": {},
     "output_type": "execute_result"
    },
    {
     "data": {
      "image/png": "[encoded data removed]",
      "text/plain": [
       "<Figure size 640x480 with 1 Axes>"
      ]
     },
     "metadata": {},
     "output_type": "display_data"
    }
   ],
   "source": [
    "movies['original_language'].value_counts().plot(kind='bar')\n",
    "# very imbalance data, no use in keeping the column it can rather create issues in the long run!"
   ]
  },
  {
   "cell_type": "code",
   "execution_count": 50,
   "metadata": {},
   "outputs": [
    {
     "data": {
      "text/html": [
       "<div>\n",
       "<style scoped>\n",
       "    .dataframe tbody tr th:only-of-type {\n",
       "        vertical-align: middle;\n",
       "    }\n",
       "\n",
       "    .dataframe tbody tr th {\n",
       "        vertical-align: top;\n",
       "    }\n",
       "\n",
       "    .dataframe thead th {\n",
       "        text-align: right;\n",
       "    }\n",
       "</style>\n",
       "<table border=\"1\" class=\"dataframe\">\n",
       "  <thead>\n",
       "    <tr style=\"text-align: right;\">\n",
       "      <th></th>\n",
       "      <th>movie_id</th>\n",
       "      <th>title</th>\n",
       "      <th>overview</th>\n",
       "      <th>genres</th>\n",
       "      <th>keywords</th>\n",
       "      <th>cast</th>\n",
       "      <th>crew</th>\n",
       "    </tr>\n",
       "  </thead>\n",
       "  <tbody>\n",
       "    <tr>\n",
       "      <th>0</th>\n",
       "      <td>19995</td>\n",
       "      <td>Avatar</td>\n",
       "      <td>In the 22nd century, a paraplegic Marine is di...</td>\n",
       "      <td>[{\"id\": 28, \"name\": \"Action\"}, {\"id\": 12, \"nam...</td>\n",
       "      <td>[{\"id\": 1463, \"name\": \"culture clash\"}, {\"id\":...</td>\n",
       "      <td>[{\"cast_id\": 242, \"character\": \"Jake Sully\", \"...</td>\n",
       "      <td>[{\"credit_id\": \"52fe48009251416c750aca23\", \"de...</td>\n",
       "    </tr>\n",
       "  </tbody>\n",
       "</table>\n",
       "</div>"
      ],
      "text/plain": [
       "   movie_id   title                                           overview  \\\n",
       "0     19995  Avatar  In the 22nd century, a paraplegic Marine is di...   \n",
       "\n",
       "                                              genres  \\\n",
       "0  [{\"id\": 28, \"name\": \"Action\"}, {\"id\": 12, \"nam...   \n",
       "\n",
       "                                            keywords  \\\n",
       "0  [{\"id\": 1463, \"name\": \"culture clash\"}, {\"id\":...   \n",
       "\n",
       "                                                cast  \\\n",
       "0  [{\"cast_id\": 242, \"character\": \"Jake Sully\", \"...   \n",
       "\n",
       "                                                crew  \n",
       "0  [{\"credit_id\": \"52fe48009251416c750aca23\", \"de...  "
      ]
     },
     "execution_count": 50,
     "metadata": {},
     "output_type": "execute_result"
    }
   ],
   "source": [
    "# keeping necessary columns\n",
    "movies = movies[['movie_id','title','overview','genres','keywords','cast','crew']]\n",
    "movies.head(1)"
   ]
  },
  {
   "cell_type": "code",
   "execution_count": 51,
   "metadata": {},
   "outputs": [],
   "source": [
    "# genre: only genre name\n",
    "# keywords: only keywords\n",
    "# cast: top 3 actors\n",
    "# crew: director"
   ]
  },
  {
   "cell_type": "code",
   "execution_count": 52,
   "metadata": {},
   "outputs": [
    {
     "data": {
      "text/plain": [
       "movie_id    0\n",
       "title       0\n",
       "overview    3\n",
       "genres      0\n",
       "keywords    0\n",
       "cast        0\n",
       "crew        0\n",
       "dtype: int64"
      ]
     },
     "execution_count": 52,
     "metadata": {},
     "output_type": "execute_result"
    }
   ],
   "source": [
    "movies.isnull().sum()"
   ]
  },
  {
   "cell_type": "code",
   "execution_count": 53,
   "metadata": {},
   "outputs": [
    {
     "data": {
      "text/plain": [
       "movie_id    0\n",
       "title       0\n",
       "overview    0\n",
       "genres      0\n",
       "keywords    0\n",
       "cast        0\n",
       "crew        0\n",
       "dtype: int64"
      ]
     },
     "execution_count": 53,
     "metadata": {},
     "output_type": "execute_result"
    }
   ],
   "source": [
    "movies.dropna(inplace=True)\n",
    "movies.isnull().sum()"
   ]
  },
  {
   "cell_type": "code",
   "execution_count": 54,
   "metadata": {},
   "outputs": [
    {
     "data": {
      "text/plain": [
       "np.int64(0)"
      ]
     },
     "execution_count": 54,
     "metadata": {},
     "output_type": "execute_result"
    }
   ],
   "source": [
    "movies.duplicated().sum()"
   ]
  },
  {
   "cell_type": "code",
   "execution_count": 55,
   "metadata": {},
   "outputs": [
    {
     "data": {
      "text/plain": [
       "'[{\"id\": 28, \"name\": \"Action\"}, {\"id\": 12, \"name\": \"Adventure\"}, {\"id\": 14, \"name\": \"Fantasy\"}, {\"id\": 878, \"name\": \"Science Fiction\"}]'"
      ]
     },
     "execution_count": 55,
     "metadata": {},
     "output_type": "execute_result"
    }
   ],
   "source": [
    "movies.iloc[0].genres"
   ]
  },
  {
   "cell_type": "markdown",
   "metadata": {},
   "source": [
    "Convert '[{\"id\": 28, \"name\": \"Action\"}, {\"id\": 12, \"name\": \"Adventure\"}, {\"id\": 14, \"name\": \"Fantasy\"}, {\"id\": 878, \"name\": \"Science Fiction\"}]' to ['Action' , 'Adventure' , 'Fantasy' , 'Science Fiction']\n"
   ]
  },
  {
   "cell_type": "code",
   "execution_count": 56,
   "metadata": {},
   "outputs": [],
   "source": [
    "import ast\n",
    "def fetch_all(obj):\n",
    "    L = []\n",
    "    for i in ast.literal_eval(obj):\n",
    "        L.append(i['name'])\n",
    "    return L\n",
    "\n",
    "def fetch_top3_actors(obj):\n",
    "    L = []\n",
    "    counter = 0\n",
    "    for i in ast.literal_eval(obj):\n",
    "        L.append(i['name'])\n",
    "        counter += 1\n",
    "        if counter == 3:\n",
    "            break\n",
    "    return L\n",
    "\n",
    "def fetch_director(obj):\n",
    "    L = []\n",
    "    for i in ast.literal_eval(obj):\n",
    "        if i['job'] == 'Director':\n",
    "            L.append(i['name'])\n",
    "            break\n",
    "    return L"
   ]
  },
  {
   "cell_type": "code",
   "execution_count": 57,
   "metadata": {},
   "outputs": [],
   "source": [
    "movies['genres'] = movies['genres'].apply(fetch_all)\n",
    "movies['keywords'] = movies['keywords'].apply(fetch_all)\n",
    "movies['cast'] = movies['cast'].apply(fetch_top3_actors)\n",
    "movies['crew'] = movies['crew'].apply(fetch_director)"
   ]
  },
  {
   "cell_type": "code",
   "execution_count": 58,
   "metadata": {},
   "outputs": [
    {
     "data": {
      "text/html": [
       "<div>\n",
       "<style scoped>\n",
       "    .dataframe tbody tr th:only-of-type {\n",
       "        vertical-align: middle;\n",
       "    }\n",
       "\n",
       "    .dataframe tbody tr th {\n",
       "        vertical-align: top;\n",
       "    }\n",
       "\n",
       "    .dataframe thead th {\n",
       "        text-align: right;\n",
       "    }\n",
       "</style>\n",
       "<table border=\"1\" class=\"dataframe\">\n",
       "  <thead>\n",
       "    <tr style=\"text-align: right;\">\n",
       "      <th></th>\n",
       "      <th>movie_id</th>\n",
       "      <th>title</th>\n",
       "      <th>overview</th>\n",
       "      <th>genres</th>\n",
       "      <th>keywords</th>\n",
       "      <th>cast</th>\n",
       "      <th>crew</th>\n",
       "    </tr>\n",
       "  </thead>\n",
       "  <tbody>\n",
       "    <tr>\n",
       "      <th>0</th>\n",
       "      <td>19995</td>\n",
       "      <td>Avatar</td>\n",
       "      <td>In the 22nd century, a paraplegic Marine is di...</td>\n",
       "      <td>[Action, Adventure, Fantasy, Science Fiction]</td>\n",
       "      <td>[culture clash, future, space war, space colon...</td>\n",
       "      <td>[Sam Worthington, Zoe Saldana, Sigourney Weaver]</td>\n",
       "      <td>[James Cameron]</td>\n",
       "    </tr>\n",
       "    <tr>\n",
       "      <th>1</th>\n",
       "      <td>285</td>\n",
       "      <td>Pirates of the Caribbean: At World's End</td>\n",
       "      <td>Captain Barbossa, long believed to be dead, ha...</td>\n",
       "      <td>[Adventure, Fantasy, Action]</td>\n",
       "      <td>[ocean, drug abuse, exotic island, east india ...</td>\n",
       "      <td>[Johnny Depp, Orlando Bloom, Keira Knightley]</td>\n",
       "      <td>[Gore Verbinski]</td>\n",
       "    </tr>\n",
       "    <tr>\n",
       "      <th>2</th>\n",
       "      <td>206647</td>\n",
       "      <td>Spectre</td>\n",
       "      <td>A cryptic message from Bond’s past sends him o...</td>\n",
       "      <td>[Action, Adventure, Crime]</td>\n",
       "      <td>[spy, based on novel, secret agent, sequel, mi...</td>\n",
       "      <td>[Daniel Craig, Christoph Waltz, Léa Seydoux]</td>\n",
       "      <td>[Sam Mendes]</td>\n",
       "    </tr>\n",
       "    <tr>\n",
       "      <th>3</th>\n",
       "      <td>49026</td>\n",
       "      <td>The Dark Knight Rises</td>\n",
       "      <td>Following the death of District Attorney Harve...</td>\n",
       "      <td>[Action, Crime, Drama, Thriller]</td>\n",
       "      <td>[dc comics, crime fighter, terrorist, secret i...</td>\n",
       "      <td>[Christian Bale, Michael Caine, Gary Oldman]</td>\n",
       "      <td>[Christopher Nolan]</td>\n",
       "    </tr>\n",
       "    <tr>\n",
       "      <th>4</th>\n",
       "      <td>49529</td>\n",
       "      <td>John Carter</td>\n",
       "      <td>John Carter is a war-weary, former military ca...</td>\n",
       "      <td>[Action, Adventure, Science Fiction]</td>\n",
       "      <td>[based on novel, mars, medallion, space travel...</td>\n",
       "      <td>[Taylor Kitsch, Lynn Collins, Samantha Morton]</td>\n",
       "      <td>[Andrew Stanton]</td>\n",
       "    </tr>\n",
       "  </tbody>\n",
       "</table>\n",
       "</div>"
      ],
      "text/plain": [
       "   movie_id                                     title  \\\n",
       "0     19995                                    Avatar   \n",
       "1       285  Pirates of the Caribbean: At World's End   \n",
       "2    206647                                   Spectre   \n",
       "3     49026                     The Dark Knight Rises   \n",
       "4     49529                               John Carter   \n",
       "\n",
       "                                            overview  \\\n",
       "0  In the 22nd century, a paraplegic Marine is di...   \n",
       "1  Captain Barbossa, long believed to be dead, ha...   \n",
       "2  A cryptic message from Bond’s past sends him o...   \n",
       "3  Following the death of District Attorney Harve...   \n",
       "4  John Carter is a war-weary, former military ca...   \n",
       "\n",
       "                                          genres  \\\n",
       "0  [Action, Adventure, Fantasy, Science Fiction]   \n",
       "1                   [Adventure, Fantasy, Action]   \n",
       "2                     [Action, Adventure, Crime]   \n",
       "3               [Action, Crime, Drama, Thriller]   \n",
       "4           [Action, Adventure, Science Fiction]   \n",
       "\n",
       "                                            keywords  \\\n",
       "0  [culture clash, future, space war, space colon...   \n",
       "1  [ocean, drug abuse, exotic island, east india ...   \n",
       "2  [spy, based on novel, secret agent, sequel, mi...   \n",
       "3  [dc comics, crime fighter, terrorist, secret i...   \n",
       "4  [based on novel, mars, medallion, space travel...   \n",
       "\n",
       "                                               cast                 crew  \n",
       "0  [Sam Worthington, Zoe Saldana, Sigourney Weaver]      [James Cameron]  \n",
       "1     [Johnny Depp, Orlando Bloom, Keira Knightley]     [Gore Verbinski]  \n",
       "2      [Daniel Craig, Christoph Waltz, Léa Seydoux]         [Sam Mendes]  \n",
       "3      [Christian Bale, Michael Caine, Gary Oldman]  [Christopher Nolan]  \n",
       "4    [Taylor Kitsch, Lynn Collins, Samantha Morton]     [Andrew Stanton]  "
      ]
     },
     "execution_count": 58,
     "metadata": {},
     "output_type": "execute_result"
    }
   ],
   "source": [
    "movies.head()"
   ]
  },
  {
   "cell_type": "code",
   "execution_count": 59,
   "metadata": {},
   "outputs": [
    {
     "data": {
      "text/plain": [
       "'In the 22nd century, a paraplegic Marine is dispatched to the moon Pandora on a unique mission, but becomes torn between following orders and protecting an alien civilization.'"
      ]
     },
     "execution_count": 59,
     "metadata": {},
     "output_type": "execute_result"
    }
   ],
   "source": [
    "movies['overview'][0]"
   ]
  },
  {
   "cell_type": "code",
   "execution_count": 60,
   "metadata": {},
   "outputs": [
    {
     "data": {
      "text/html": [
       "<div>\n",
       "<style scoped>\n",
       "    .dataframe tbody tr th:only-of-type {\n",
       "        vertical-align: middle;\n",
       "    }\n",
       "\n",
       "    .dataframe tbody tr th {\n",
       "        vertical-align: top;\n",
       "    }\n",
       "\n",
       "    .dataframe thead th {\n",
       "        text-align: right;\n",
       "    }\n",
       "</style>\n",
       "<table border=\"1\" class=\"dataframe\">\n",
       "  <thead>\n",
       "    <tr style=\"text-align: right;\">\n",
       "      <th></th>\n",
       "      <th>movie_id</th>\n",
       "      <th>title</th>\n",
       "      <th>overview</th>\n",
       "      <th>genres</th>\n",
       "      <th>keywords</th>\n",
       "      <th>cast</th>\n",
       "      <th>crew</th>\n",
       "    </tr>\n",
       "  </thead>\n",
       "  <tbody>\n",
       "    <tr>\n",
       "      <th>0</th>\n",
       "      <td>19995</td>\n",
       "      <td>Avatar</td>\n",
       "      <td>[In, the, 22nd, century,, a, paraplegic, Marin...</td>\n",
       "      <td>[Action, Adventure, Fantasy, Science Fiction]</td>\n",
       "      <td>[culture clash, future, space war, space colon...</td>\n",
       "      <td>[Sam Worthington, Zoe Saldana, Sigourney Weaver]</td>\n",
       "      <td>[James Cameron]</td>\n",
       "    </tr>\n",
       "    <tr>\n",
       "      <th>1</th>\n",
       "      <td>285</td>\n",
       "      <td>Pirates of the Caribbean: At World's End</td>\n",
       "      <td>[Captain, Barbossa,, long, believed, to, be, d...</td>\n",
       "      <td>[Adventure, Fantasy, Action]</td>\n",
       "      <td>[ocean, drug abuse, exotic island, east india ...</td>\n",
       "      <td>[Johnny Depp, Orlando Bloom, Keira Knightley]</td>\n",
       "      <td>[Gore Verbinski]</td>\n",
       "    </tr>\n",
       "    <tr>\n",
       "      <th>2</th>\n",
       "      <td>206647</td>\n",
       "      <td>Spectre</td>\n",
       "      <td>[A, cryptic, message, from, Bond’s, past, send...</td>\n",
       "      <td>[Action, Adventure, Crime]</td>\n",
       "      <td>[spy, based on novel, secret agent, sequel, mi...</td>\n",
       "      <td>[Daniel Craig, Christoph Waltz, Léa Seydoux]</td>\n",
       "      <td>[Sam Mendes]</td>\n",
       "    </tr>\n",
       "    <tr>\n",
       "      <th>3</th>\n",
       "      <td>49026</td>\n",
       "      <td>The Dark Knight Rises</td>\n",
       "      <td>[Following, the, death, of, District, Attorney...</td>\n",
       "      <td>[Action, Crime, Drama, Thriller]</td>\n",
       "      <td>[dc comics, crime fighter, terrorist, secret i...</td>\n",
       "      <td>[Christian Bale, Michael Caine, Gary Oldman]</td>\n",
       "      <td>[Christopher Nolan]</td>\n",
       "    </tr>\n",
       "    <tr>\n",
       "      <th>4</th>\n",
       "      <td>49529</td>\n",
       "      <td>John Carter</td>\n",
       "      <td>[John, Carter, is, a, war-weary,, former, mili...</td>\n",
       "      <td>[Action, Adventure, Science Fiction]</td>\n",
       "      <td>[based on novel, mars, medallion, space travel...</td>\n",
       "      <td>[Taylor Kitsch, Lynn Collins, Samantha Morton]</td>\n",
       "      <td>[Andrew Stanton]</td>\n",
       "    </tr>\n",
       "  </tbody>\n",
       "</table>\n",
       "</div>"
      ],
      "text/plain": [
       "   movie_id                                     title  \\\n",
       "0     19995                                    Avatar   \n",
       "1       285  Pirates of the Caribbean: At World's End   \n",
       "2    206647                                   Spectre   \n",
       "3     49026                     The Dark Knight Rises   \n",
       "4     49529                               John Carter   \n",
       "\n",
       "                                            overview  \\\n",
       "0  [In, the, 22nd, century,, a, paraplegic, Marin...   \n",
       "1  [Captain, Barbossa,, long, believed, to, be, d...   \n",
       "2  [A, cryptic, message, from, Bond’s, past, send...   \n",
       "3  [Following, the, death, of, District, Attorney...   \n",
       "4  [John, Carter, is, a, war-weary,, former, mili...   \n",
       "\n",
       "                                          genres  \\\n",
       "0  [Action, Adventure, Fantasy, Science Fiction]   \n",
       "1                   [Adventure, Fantasy, Action]   \n",
       "2                     [Action, Adventure, Crime]   \n",
       "3               [Action, Crime, Drama, Thriller]   \n",
       "4           [Action, Adventure, Science Fiction]   \n",
       "\n",
       "                                            keywords  \\\n",
       "0  [culture clash, future, space war, space colon...   \n",
       "1  [ocean, drug abuse, exotic island, east india ...   \n",
       "2  [spy, based on novel, secret agent, sequel, mi...   \n",
       "3  [dc comics, crime fighter, terrorist, secret i...   \n",
       "4  [based on novel, mars, medallion, space travel...   \n",
       "\n",
       "                                               cast                 crew  \n",
       "0  [Sam Worthington, Zoe Saldana, Sigourney Weaver]      [James Cameron]  \n",
       "1     [Johnny Depp, Orlando Bloom, Keira Knightley]     [Gore Verbinski]  \n",
       "2      [Daniel Craig, Christoph Waltz, Léa Seydoux]         [Sam Mendes]  \n",
       "3      [Christian Bale, Michael Caine, Gary Oldman]  [Christopher Nolan]  \n",
       "4    [Taylor Kitsch, Lynn Collins, Samantha Morton]     [Andrew Stanton]  "
      ]
     },
     "execution_count": 60,
     "metadata": {},
     "output_type": "execute_result"
    }
   ],
   "source": [
    "movies['overview']= movies['overview'].apply(lambda x:x.split())\n",
    "movies.head()"
   ]
  },
  {
   "cell_type": "markdown",
   "metadata": {},
   "source": [
    "removing spaces from the names because we are creating tags, and spaces can lead to different tags"
   ]
  },
  {
   "cell_type": "code",
   "execution_count": 61,
   "metadata": {},
   "outputs": [],
   "source": [
    "movies['genres'] = movies['genres'].apply(lambda x:[i.replace(\" \",\"\") for i in x])\n",
    "movies['keywords'] = movies['keywords'].apply(lambda x:[i.replace(\" \",\"\") for i in x])\n",
    "movies['cast'] = movies['cast'].apply(lambda x:[i.replace(\" \",\"\") for i in x])\n",
    "movies['crew'] = movies['crew'].apply(lambda x:[i.replace(\" \",\"\") for i in x])"
   ]
  },
  {
   "cell_type": "code",
   "execution_count": 62,
   "metadata": {},
   "outputs": [
    {
     "data": {
      "text/html": [
       "<div>\n",
       "<style scoped>\n",
       "    .dataframe tbody tr th:only-of-type {\n",
       "        vertical-align: middle;\n",
       "    }\n",
       "\n",
       "    .dataframe tbody tr th {\n",
       "        vertical-align: top;\n",
       "    }\n",
       "\n",
       "    .dataframe thead th {\n",
       "        text-align: right;\n",
       "    }\n",
       "</style>\n",
       "<table border=\"1\" class=\"dataframe\">\n",
       "  <thead>\n",
       "    <tr style=\"text-align: right;\">\n",
       "      <th></th>\n",
       "      <th>movie_id</th>\n",
       "      <th>title</th>\n",
       "      <th>overview</th>\n",
       "      <th>genres</th>\n",
       "      <th>keywords</th>\n",
       "      <th>cast</th>\n",
       "      <th>crew</th>\n",
       "    </tr>\n",
       "  </thead>\n",
       "  <tbody>\n",
       "    <tr>\n",
       "      <th>0</th>\n",
       "      <td>19995</td>\n",
       "      <td>Avatar</td>\n",
       "      <td>[In, the, 22nd, century,, a, paraplegic, Marin...</td>\n",
       "      <td>[Action, Adventure, Fantasy, ScienceFiction]</td>\n",
       "      <td>[cultureclash, future, spacewar, spacecolony, ...</td>\n",
       "      <td>[SamWorthington, ZoeSaldana, SigourneyWeaver]</td>\n",
       "      <td>[JamesCameron]</td>\n",
       "    </tr>\n",
       "    <tr>\n",
       "      <th>1</th>\n",
       "      <td>285</td>\n",
       "      <td>Pirates of the Caribbean: At World's End</td>\n",
       "      <td>[Captain, Barbossa,, long, believed, to, be, d...</td>\n",
       "      <td>[Adventure, Fantasy, Action]</td>\n",
       "      <td>[ocean, drugabuse, exoticisland, eastindiatrad...</td>\n",
       "      <td>[JohnnyDepp, OrlandoBloom, KeiraKnightley]</td>\n",
       "      <td>[GoreVerbinski]</td>\n",
       "    </tr>\n",
       "    <tr>\n",
       "      <th>2</th>\n",
       "      <td>206647</td>\n",
       "      <td>Spectre</td>\n",
       "      <td>[A, cryptic, message, from, Bond’s, past, send...</td>\n",
       "      <td>[Action, Adventure, Crime]</td>\n",
       "      <td>[spy, basedonnovel, secretagent, sequel, mi6, ...</td>\n",
       "      <td>[DanielCraig, ChristophWaltz, LéaSeydoux]</td>\n",
       "      <td>[SamMendes]</td>\n",
       "    </tr>\n",
       "    <tr>\n",
       "      <th>3</th>\n",
       "      <td>49026</td>\n",
       "      <td>The Dark Knight Rises</td>\n",
       "      <td>[Following, the, death, of, District, Attorney...</td>\n",
       "      <td>[Action, Crime, Drama, Thriller]</td>\n",
       "      <td>[dccomics, crimefighter, terrorist, secretiden...</td>\n",
       "      <td>[ChristianBale, MichaelCaine, GaryOldman]</td>\n",
       "      <td>[ChristopherNolan]</td>\n",
       "    </tr>\n",
       "    <tr>\n",
       "      <th>4</th>\n",
       "      <td>49529</td>\n",
       "      <td>John Carter</td>\n",
       "      <td>[John, Carter, is, a, war-weary,, former, mili...</td>\n",
       "      <td>[Action, Adventure, ScienceFiction]</td>\n",
       "      <td>[basedonnovel, mars, medallion, spacetravel, p...</td>\n",
       "      <td>[TaylorKitsch, LynnCollins, SamanthaMorton]</td>\n",
       "      <td>[AndrewStanton]</td>\n",
       "    </tr>\n",
       "  </tbody>\n",
       "</table>\n",
       "</div>"
      ],
      "text/plain": [
       "   movie_id                                     title  \\\n",
       "0     19995                                    Avatar   \n",
       "1       285  Pirates of the Caribbean: At World's End   \n",
       "2    206647                                   Spectre   \n",
       "3     49026                     The Dark Knight Rises   \n",
       "4     49529                               John Carter   \n",
       "\n",
       "                                            overview  \\\n",
       "0  [In, the, 22nd, century,, a, paraplegic, Marin...   \n",
       "1  [Captain, Barbossa,, long, believed, to, be, d...   \n",
       "2  [A, cryptic, message, from, Bond’s, past, send...   \n",
       "3  [Following, the, death, of, District, Attorney...   \n",
       "4  [John, Carter, is, a, war-weary,, former, mili...   \n",
       "\n",
       "                                         genres  \\\n",
       "0  [Action, Adventure, Fantasy, ScienceFiction]   \n",
       "1                  [Adventure, Fantasy, Action]   \n",
       "2                    [Action, Adventure, Crime]   \n",
       "3              [Action, Crime, Drama, Thriller]   \n",
       "4           [Action, Adventure, ScienceFiction]   \n",
       "\n",
       "                                            keywords  \\\n",
       "0  [cultureclash, future, spacewar, spacecolony, ...   \n",
       "1  [ocean, drugabuse, exoticisland, eastindiatrad...   \n",
       "2  [spy, basedonnovel, secretagent, sequel, mi6, ...   \n",
       "3  [dccomics, crimefighter, terrorist, secretiden...   \n",
       "4  [basedonnovel, mars, medallion, spacetravel, p...   \n",
       "\n",
       "                                            cast                crew  \n",
       "0  [SamWorthington, ZoeSaldana, SigourneyWeaver]      [JamesCameron]  \n",
       "1     [JohnnyDepp, OrlandoBloom, KeiraKnightley]     [GoreVerbinski]  \n",
       "2      [DanielCraig, ChristophWaltz, LéaSeydoux]         [SamMendes]  \n",
       "3      [ChristianBale, MichaelCaine, GaryOldman]  [ChristopherNolan]  \n",
       "4    [TaylorKitsch, LynnCollins, SamanthaMorton]     [AndrewStanton]  "
      ]
     },
     "execution_count": 62,
     "metadata": {},
     "output_type": "execute_result"
    }
   ],
   "source": [
    "movies.head()"
   ]
  },
  {
   "cell_type": "code",
   "execution_count": 63,
   "metadata": {},
   "outputs": [
    {
     "data": {
      "text/html": [
       "<div>\n",
       "<style scoped>\n",
       "    .dataframe tbody tr th:only-of-type {\n",
       "        vertical-align: middle;\n",
       "    }\n",
       "\n",
       "    .dataframe tbody tr th {\n",
       "        vertical-align: top;\n",
       "    }\n",
       "\n",
       "    .dataframe thead th {\n",
       "        text-align: right;\n",
       "    }\n",
       "</style>\n",
       "<table border=\"1\" class=\"dataframe\">\n",
       "  <thead>\n",
       "    <tr style=\"text-align: right;\">\n",
       "      <th></th>\n",
       "      <th>movie_id</th>\n",
       "      <th>title</th>\n",
       "      <th>overview</th>\n",
       "      <th>genres</th>\n",
       "      <th>keywords</th>\n",
       "      <th>cast</th>\n",
       "      <th>crew</th>\n",
       "      <th>tags</th>\n",
       "    </tr>\n",
       "  </thead>\n",
       "  <tbody>\n",
       "    <tr>\n",
       "      <th>0</th>\n",
       "      <td>19995</td>\n",
       "      <td>Avatar</td>\n",
       "      <td>[In, the, 22nd, century,, a, paraplegic, Marin...</td>\n",
       "      <td>[Action, Adventure, Fantasy, ScienceFiction]</td>\n",
       "      <td>[cultureclash, future, spacewar, spacecolony, ...</td>\n",
       "      <td>[SamWorthington, ZoeSaldana, SigourneyWeaver]</td>\n",
       "      <td>[JamesCameron]</td>\n",
       "      <td>[In, the, 22nd, century,, a, paraplegic, Marin...</td>\n",
       "    </tr>\n",
       "    <tr>\n",
       "      <th>1</th>\n",
       "      <td>285</td>\n",
       "      <td>Pirates of the Caribbean: At World's End</td>\n",
       "      <td>[Captain, Barbossa,, long, believed, to, be, d...</td>\n",
       "      <td>[Adventure, Fantasy, Action]</td>\n",
       "      <td>[ocean, drugabuse, exoticisland, eastindiatrad...</td>\n",
       "      <td>[JohnnyDepp, OrlandoBloom, KeiraKnightley]</td>\n",
       "      <td>[GoreVerbinski]</td>\n",
       "      <td>[Captain, Barbossa,, long, believed, to, be, d...</td>\n",
       "    </tr>\n",
       "    <tr>\n",
       "      <th>2</th>\n",
       "      <td>206647</td>\n",
       "      <td>Spectre</td>\n",
       "      <td>[A, cryptic, message, from, Bond’s, past, send...</td>\n",
       "      <td>[Action, Adventure, Crime]</td>\n",
       "      <td>[spy, basedonnovel, secretagent, sequel, mi6, ...</td>\n",
       "      <td>[DanielCraig, ChristophWaltz, LéaSeydoux]</td>\n",
       "      <td>[SamMendes]</td>\n",
       "      <td>[A, cryptic, message, from, Bond’s, past, send...</td>\n",
       "    </tr>\n",
       "    <tr>\n",
       "      <th>3</th>\n",
       "      <td>49026</td>\n",
       "      <td>The Dark Knight Rises</td>\n",
       "      <td>[Following, the, death, of, District, Attorney...</td>\n",
       "      <td>[Action, Crime, Drama, Thriller]</td>\n",
       "      <td>[dccomics, crimefighter, terrorist, secretiden...</td>\n",
       "      <td>[ChristianBale, MichaelCaine, GaryOldman]</td>\n",
       "      <td>[ChristopherNolan]</td>\n",
       "      <td>[Following, the, death, of, District, Attorney...</td>\n",
       "    </tr>\n",
       "    <tr>\n",
       "      <th>4</th>\n",
       "      <td>49529</td>\n",
       "      <td>John Carter</td>\n",
       "      <td>[John, Carter, is, a, war-weary,, former, mili...</td>\n",
       "      <td>[Action, Adventure, ScienceFiction]</td>\n",
       "      <td>[basedonnovel, mars, medallion, spacetravel, p...</td>\n",
       "      <td>[TaylorKitsch, LynnCollins, SamanthaMorton]</td>\n",
       "      <td>[AndrewStanton]</td>\n",
       "      <td>[John, Carter, is, a, war-weary,, former, mili...</td>\n",
       "    </tr>\n",
       "  </tbody>\n",
       "</table>\n",
       "</div>"
      ],
      "text/plain": [
       "   movie_id                                     title  \\\n",
       "0     19995                                    Avatar   \n",
       "1       285  Pirates of the Caribbean: At World's End   \n",
       "2    206647                                   Spectre   \n",
       "3     49026                     The Dark Knight Rises   \n",
       "4     49529                               John Carter   \n",
       "\n",
       "                                            overview  \\\n",
       "0  [In, the, 22nd, century,, a, paraplegic, Marin...   \n",
       "1  [Captain, Barbossa,, long, believed, to, be, d...   \n",
       "2  [A, cryptic, message, from, Bond’s, past, send...   \n",
       "3  [Following, the, death, of, District, Attorney...   \n",
       "4  [John, Carter, is, a, war-weary,, former, mili...   \n",
       "\n",
       "                                         genres  \\\n",
       "0  [Action, Adventure, Fantasy, ScienceFiction]   \n",
       "1                  [Adventure, Fantasy, Action]   \n",
       "2                    [Action, Adventure, Crime]   \n",
       "3              [Action, Crime, Drama, Thriller]   \n",
       "4           [Action, Adventure, ScienceFiction]   \n",
       "\n",
       "                                            keywords  \\\n",
       "0  [cultureclash, future, spacewar, spacecolony, ...   \n",
       "1  [ocean, drugabuse, exoticisland, eastindiatrad...   \n",
       "2  [spy, basedonnovel, secretagent, sequel, mi6, ...   \n",
       "3  [dccomics, crimefighter, terrorist, secretiden...   \n",
       "4  [basedonnovel, mars, medallion, spacetravel, p...   \n",
       "\n",
       "                                            cast                crew  \\\n",
       "0  [SamWorthington, ZoeSaldana, SigourneyWeaver]      [JamesCameron]   \n",
       "1     [JohnnyDepp, OrlandoBloom, KeiraKnightley]     [GoreVerbinski]   \n",
       "2      [DanielCraig, ChristophWaltz, LéaSeydoux]         [SamMendes]   \n",
       "3      [ChristianBale, MichaelCaine, GaryOldman]  [ChristopherNolan]   \n",
       "4    [TaylorKitsch, LynnCollins, SamanthaMorton]     [AndrewStanton]   \n",
       "\n",
       "                                                tags  \n",
       "0  [In, the, 22nd, century,, a, paraplegic, Marin...  \n",
       "1  [Captain, Barbossa,, long, believed, to, be, d...  \n",
       "2  [A, cryptic, message, from, Bond’s, past, send...  \n",
       "3  [Following, the, death, of, District, Attorney...  \n",
       "4  [John, Carter, is, a, war-weary,, former, mili...  "
      ]
     },
     "execution_count": 63,
     "metadata": {},
     "output_type": "execute_result"
    }
   ],
   "source": [
    "movies['tags'] = movies['overview']+movies['genres']+movies['keywords']+movies['cast']+movies['crew']\n",
    "movies.head()"
   ]
  },
  {
   "cell_type": "code",
   "execution_count": 64,
   "metadata": {},
   "outputs": [
    {
     "name": "stderr",
     "output_type": "stream",
     "text": [
      "C:\\Users\\bhavy\\AppData\\Local\\Temp\\ipykernel_5452\\855634588.py:2: SettingWithCopyWarning: \n",
      "A value is trying to be set on a copy of a slice from a DataFrame.\n",
      "Try using .loc[row_indexer,col_indexer] = value instead\n",
      "\n",
      "See the caveats in the documentation: https://pandas.pydata.org/pandas-docs/stable/user_guide/indexing.html#returning-a-view-versus-a-copy\n",
      "  new_df['tags'] = new_df['tags'].apply(lambda x:\" \".join(x))\n"
     ]
    }
   ],
   "source": [
    "new_df = movies[['movie_id','title','tags']]\n",
    "new_df['tags'] = new_df['tags'].apply(lambda x:\" \".join(x))"
   ]
  },
  {
   "cell_type": "code",
   "execution_count": 65,
   "metadata": {},
   "outputs": [
    {
     "data": {
      "text/html": [
       "<div>\n",
       "<style scoped>\n",
       "    .dataframe tbody tr th:only-of-type {\n",
       "        vertical-align: middle;\n",
       "    }\n",
       "\n",
       "    .dataframe tbody tr th {\n",
       "        vertical-align: top;\n",
       "    }\n",
       "\n",
       "    .dataframe thead th {\n",
       "        text-align: right;\n",
       "    }\n",
       "</style>\n",
       "<table border=\"1\" class=\"dataframe\">\n",
       "  <thead>\n",
       "    <tr style=\"text-align: right;\">\n",
       "      <th></th>\n",
       "      <th>movie_id</th>\n",
       "      <th>title</th>\n",
       "      <th>tags</th>\n",
       "    </tr>\n",
       "  </thead>\n",
       "  <tbody>\n",
       "    <tr>\n",
       "      <th>0</th>\n",
       "      <td>19995</td>\n",
       "      <td>Avatar</td>\n",
       "      <td>In the 22nd century, a paraplegic Marine is di...</td>\n",
       "    </tr>\n",
       "    <tr>\n",
       "      <th>1</th>\n",
       "      <td>285</td>\n",
       "      <td>Pirates of the Caribbean: At World's End</td>\n",
       "      <td>Captain Barbossa, long believed to be dead, ha...</td>\n",
       "    </tr>\n",
       "    <tr>\n",
       "      <th>2</th>\n",
       "      <td>206647</td>\n",
       "      <td>Spectre</td>\n",
       "      <td>A cryptic message from Bond’s past sends him o...</td>\n",
       "    </tr>\n",
       "    <tr>\n",
       "      <th>3</th>\n",
       "      <td>49026</td>\n",
       "      <td>The Dark Knight Rises</td>\n",
       "      <td>Following the death of District Attorney Harve...</td>\n",
       "    </tr>\n",
       "    <tr>\n",
       "      <th>4</th>\n",
       "      <td>49529</td>\n",
       "      <td>John Carter</td>\n",
       "      <td>John Carter is a war-weary, former military ca...</td>\n",
       "    </tr>\n",
       "  </tbody>\n",
       "</table>\n",
       "</div>"
      ],
      "text/plain": [
       "   movie_id                                     title  \\\n",
       "0     19995                                    Avatar   \n",
       "1       285  Pirates of the Caribbean: At World's End   \n",
       "2    206647                                   Spectre   \n",
       "3     49026                     The Dark Knight Rises   \n",
       "4     49529                               John Carter   \n",
       "\n",
       "                                                tags  \n",
       "0  In the 22nd century, a paraplegic Marine is di...  \n",
       "1  Captain Barbossa, long believed to be dead, ha...  \n",
       "2  A cryptic message from Bond’s past sends him o...  \n",
       "3  Following the death of District Attorney Harve...  \n",
       "4  John Carter is a war-weary, former military ca...  "
      ]
     },
     "execution_count": 65,
     "metadata": {},
     "output_type": "execute_result"
    }
   ],
   "source": [
    "new_df.head()"
   ]
  },
  {
   "cell_type": "code",
   "execution_count": 66,
   "metadata": {},
   "outputs": [
    {
     "data": {
      "text/plain": [
       "'In the 22nd century, a paraplegic Marine is dispatched to the moon Pandora on a unique mission, but becomes torn between following orders and protecting an alien civilization. Action Adventure Fantasy ScienceFiction cultureclash future spacewar spacecolony society spacetravel futuristic romance space alien tribe alienplanet cgi marine soldier battle loveaffair antiwar powerrelations mindandsoul 3d SamWorthington ZoeSaldana SigourneyWeaver JamesCameron'"
      ]
     },
     "execution_count": 66,
     "metadata": {},
     "output_type": "execute_result"
    }
   ],
   "source": [
    "new_df['tags'][0]"
   ]
  },
  {
   "cell_type": "code",
   "execution_count": 67,
   "metadata": {},
   "outputs": [
    {
     "name": "stderr",
     "output_type": "stream",
     "text": [
      "C:\\Users\\bhavy\\AppData\\Local\\Temp\\ipykernel_5452\\842480936.py:1: SettingWithCopyWarning: \n",
      "A value is trying to be set on a copy of a slice from a DataFrame.\n",
      "Try using .loc[row_indexer,col_indexer] = value instead\n",
      "\n",
      "See the caveats in the documentation: https://pandas.pydata.org/pandas-docs/stable/user_guide/indexing.html#returning-a-view-versus-a-copy\n",
      "  new_df['tags'] = new_df['tags'].apply(lambda x:x.lower())\n"
     ]
    },
    {
     "data": {
      "text/html": [
       "<div>\n",
       "<style scoped>\n",
       "    .dataframe tbody tr th:only-of-type {\n",
       "        vertical-align: middle;\n",
       "    }\n",
       "\n",
       "    .dataframe tbody tr th {\n",
       "        vertical-align: top;\n",
       "    }\n",
       "\n",
       "    .dataframe thead th {\n",
       "        text-align: right;\n",
       "    }\n",
       "</style>\n",
       "<table border=\"1\" class=\"dataframe\">\n",
       "  <thead>\n",
       "    <tr style=\"text-align: right;\">\n",
       "      <th></th>\n",
       "      <th>movie_id</th>\n",
       "      <th>title</th>\n",
       "      <th>tags</th>\n",
       "    </tr>\n",
       "  </thead>\n",
       "  <tbody>\n",
       "    <tr>\n",
       "      <th>0</th>\n",
       "      <td>19995</td>\n",
       "      <td>Avatar</td>\n",
       "      <td>in the 22nd century, a paraplegic marine is di...</td>\n",
       "    </tr>\n",
       "    <tr>\n",
       "      <th>1</th>\n",
       "      <td>285</td>\n",
       "      <td>Pirates of the Caribbean: At World's End</td>\n",
       "      <td>captain barbossa, long believed to be dead, ha...</td>\n",
       "    </tr>\n",
       "    <tr>\n",
       "      <th>2</th>\n",
       "      <td>206647</td>\n",
       "      <td>Spectre</td>\n",
       "      <td>a cryptic message from bond’s past sends him o...</td>\n",
       "    </tr>\n",
       "    <tr>\n",
       "      <th>3</th>\n",
       "      <td>49026</td>\n",
       "      <td>The Dark Knight Rises</td>\n",
       "      <td>following the death of district attorney harve...</td>\n",
       "    </tr>\n",
       "    <tr>\n",
       "      <th>4</th>\n",
       "      <td>49529</td>\n",
       "      <td>John Carter</td>\n",
       "      <td>john carter is a war-weary, former military ca...</td>\n",
       "    </tr>\n",
       "  </tbody>\n",
       "</table>\n",
       "</div>"
      ],
      "text/plain": [
       "   movie_id                                     title  \\\n",
       "0     19995                                    Avatar   \n",
       "1       285  Pirates of the Caribbean: At World's End   \n",
       "2    206647                                   Spectre   \n",
       "3     49026                     The Dark Knight Rises   \n",
       "4     49529                               John Carter   \n",
       "\n",
       "                                                tags  \n",
       "0  in the 22nd century, a paraplegic marine is di...  \n",
       "1  captain barbossa, long believed to be dead, ha...  \n",
       "2  a cryptic message from bond’s past sends him o...  \n",
       "3  following the death of district attorney harve...  \n",
       "4  john carter is a war-weary, former military ca...  "
      ]
     },
     "execution_count": 67,
     "metadata": {},
     "output_type": "execute_result"
    }
   ],
   "source": [
    "new_df['tags'] = new_df['tags'].apply(lambda x:x.lower())\n",
    "new_df.head()"
   ]
  },
  {
   "cell_type": "code",
   "execution_count": 68,
   "metadata": {},
   "outputs": [],
   "source": [
    "from sklearn.feature_extraction.text import CountVectorizer\n",
    "cv = CountVectorizer(max_features=5000,stop_words='english')"
   ]
  },
  {
   "cell_type": "code",
   "execution_count": 69,
   "metadata": {},
   "outputs": [
    {
     "data": {
      "text/plain": [
       "array([0, 0, 0, ..., 0, 0, 0], shape=(5000,))"
      ]
     },
     "execution_count": 69,
     "metadata": {},
     "output_type": "execute_result"
    }
   ],
   "source": [
    "vectors = cv.fit_transform(new_df['tags']).toarray()\n",
    "vectors[0] # sparse matrix"
   ]
  },
  {
   "cell_type": "code",
   "execution_count": 70,
   "metadata": {},
   "outputs": [
    {
     "data": {
      "text/plain": [
       "array(['000', '007', '10', ..., 'zone', 'zoo', 'zooeydeschanel'],\n",
       "      shape=(5000,), dtype=object)"
      ]
     },
     "execution_count": 70,
     "metadata": {},
     "output_type": "execute_result"
    }
   ],
   "source": [
    "cv.get_feature_names_out()"
   ]
  },
  {
   "cell_type": "code",
   "execution_count": 71,
   "metadata": {},
   "outputs": [],
   "source": [
    "import nltk\n",
    "from nltk.stem.porter import PorterStemmer\n",
    "ps= PorterStemmer()"
   ]
  },
  {
   "cell_type": "code",
   "execution_count": 72,
   "metadata": {},
   "outputs": [],
   "source": [
    "def stem(text):\n",
    "    y = []\n",
    "    for i in text.split():\n",
    "        y.append(ps.stem(i))\n",
    "    return \" \".join(y)"
   ]
  },
  {
   "cell_type": "code",
   "execution_count": 73,
   "metadata": {},
   "outputs": [
    {
     "name": "stderr",
     "output_type": "stream",
     "text": [
      "C:\\Users\\bhavy\\AppData\\Local\\Temp\\ipykernel_5452\\4269356531.py:1: SettingWithCopyWarning: \n",
      "A value is trying to be set on a copy of a slice from a DataFrame.\n",
      "Try using .loc[row_indexer,col_indexer] = value instead\n",
      "\n",
      "See the caveats in the documentation: https://pandas.pydata.org/pandas-docs/stable/user_guide/indexing.html#returning-a-view-versus-a-copy\n",
      "  new_df['tags'] = new_df['tags'].apply(stem)\n"
     ]
    },
    {
     "data": {
      "text/plain": [
       "0       in the 22nd century, a parapleg marin is dispa...\n",
       "1       captain barbossa, long believ to be dead, ha c...\n",
       "2       a cryptic messag from bond’ past send him on a...\n",
       "3       follow the death of district attorney harvey d...\n",
       "4       john carter is a war-weary, former militari ca...\n",
       "                              ...                        \n",
       "4804    el mariachi just want to play hi guitar and ca...\n",
       "4805    a newlyw couple' honeymoon is upend by the arr...\n",
       "4806    \"signed, sealed, delivered\" introduc a dedic q...\n",
       "4807    when ambiti new york attorney sam is sent to s...\n",
       "4808    ever sinc the second grade when he first saw h...\n",
       "Name: tags, Length: 4806, dtype: object"
      ]
     },
     "execution_count": 73,
     "metadata": {},
     "output_type": "execute_result"
    }
   ],
   "source": [
    "new_df['tags'] = new_df['tags'].apply(stem)\n",
    "new_df['tags']"
   ]
  },
  {
   "cell_type": "code",
   "execution_count": 74,
   "metadata": {},
   "outputs": [
    {
     "data": {
      "text/plain": [
       "array(['000', '007', '10', ..., 'zone', 'zoo', 'zooeydeschanel'],\n",
       "      shape=(5000,), dtype=object)"
      ]
     },
     "execution_count": 74,
     "metadata": {},
     "output_type": "execute_result"
    }
   ],
   "source": [
    "cv.get_feature_names_out()"
   ]
  },
  {
   "cell_type": "code",
   "execution_count": 75,
   "metadata": {},
   "outputs": [],
   "source": [
    "from sklearn.metrics.pairwise import cosine_similarity"
   ]
  },
  {
   "cell_type": "code",
   "execution_count": 76,
   "metadata": {},
   "outputs": [],
   "source": [
    "similarity = cosine_similarity(vectors)"
   ]
  },
  {
   "cell_type": "code",
   "execution_count": 77,
   "metadata": {},
   "outputs": [
    {
     "data": {
      "text/plain": [
       "array([0.08740748, 1.        , 0.06451613, ..., 0.02677398, 0.        ,\n",
       "       0.        ], shape=(4806,))"
      ]
     },
     "execution_count": 77,
     "metadata": {},
     "output_type": "execute_result"
    }
   ],
   "source": [
    "similarity[1]"
   ]
  },
  {
   "cell_type": "code",
   "execution_count": 78,
   "metadata": {},
   "outputs": [],
   "source": [
    "def recommend(movie):\n",
    "    movie_index = new_df[new_df['title'] == movie].index[0]\n",
    "    distances = similarity[movie_index]\n",
    "    movies_list = sorted(list(enumerate(distances)), reverse=True,  key =lambda x:x[1])[1:6]\n",
    "    for i in movies_list:\n",
    "       print(new_df.iloc[i[0]].title) \n"
   ]
  },
  {
   "cell_type": "code",
   "execution_count": 79,
   "metadata": {},
   "outputs": [
    {
     "name": "stdout",
     "output_type": "stream",
     "text": [
      "The Dark Knight\n",
      "The Dark Knight Rises\n",
      "Batman\n",
      "Batman\n",
      "Batman & Robin\n"
     ]
    }
   ],
   "source": [
    "recommend('Batman Begins')"
   ]
  },
  {
   "cell_type": "code",
   "execution_count": 80,
   "metadata": {},
   "outputs": [],
   "source": [
    "import pickle"
   ]
  },
  {
   "cell_type": "code",
   "execution_count": 81,
   "metadata": {},
   "outputs": [],
   "source": [
    "pickle.dump(new_df,open('artifacts/movies.pkl','wb'))"
   ]
  },
  {
   "cell_type": "code",
   "execution_count": 82,
   "metadata": {},
   "outputs": [],
   "source": [
    "# save new_df as csv file in artifacts\n",
    "new_df.to_csv('artifacts/movies.csv',index=False)"
   ]
  },
  {
   "cell_type": "code",
   "execution_count": 83,
   "metadata": {},
   "outputs": [],
   "source": [
    "pickle.dump(similarity,open('artifacts/similarity.pkl','wb'))"
   ]
  }
 ],
 "metadata": {
  "kernelspec": {
   "display_name": "venv",
   "language": "python",
   "name": "python3"
  },
  "language_info": {
   "codemirror_mode": {
    "name": "ipython",
    "version": 3
   },
   "file_extension": ".py",
   "mimetype": "text/x-python",
   "name": "python",
   "nbconvert_exporter": "python",
   "pygments_lexer": "ipython3",
   "version": "3.12.7"
  }
 },
 "nbformat": 4,
 "nbformat_minor": 2
}
